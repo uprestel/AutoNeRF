{
  "nbformat": 4,
  "nbformat_minor": 0,
  "metadata": {
    "colab": {
      "name": "pose_estimation",
      "provenance": [],
      "collapsed_sections": [],
      "include_colab_link": true
    },
    "kernelspec": {
      "name": "python3",
      "display_name": "Python 3"
    },
    "accelerator": "GPU"
  },
  "cells": [
    {
      "cell_type": "markdown",
      "metadata": {
        "id": "view-in-github",
        "colab_type": "text"
      },
      "source": [
        "<a href=\"https://colab.research.google.com/github/uprestel/AutoNeRF/blob/master/pose_estimation.ipynb\" target=\"_parent\"><img src=\"https://colab.research.google.com/assets/colab-badge.svg\" alt=\"Open In Colab\"/></a>"
      ]
    },
    {
      "cell_type": "markdown",
      "metadata": {
        "id": "XZh3aklt3ZET"
      },
      "source": [
        "# AutoNeRF Implementation\n",
        "In this Notebook we \n",
        "* train a VAE on synthetic NeRF data\n",
        "* train a cINN on the same dataset\n",
        "* combine the two models to generate novel views\n",
        "\n",
        "\n"
      ]
    },
    {
      "cell_type": "markdown",
      "metadata": {
        "id": "ghRFiG5zKvko"
      },
      "source": [
        "### Load imports"
      ]
    },
    {
      "cell_type": "code",
      "metadata": {
        "id": "ptTYjWao3VsM",
        "colab": {
          "base_uri": "https://localhost:8080/"
        },
        "outputId": "3aaca1cc-be18-471a-e68d-1ac48b5e51c3"
      },
      "source": [
        "import sys\n",
        "import torch\n",
        "import torch.nn as nn\n",
        "import torch.nn.functional as F\n",
        "\n",
        "!git clone https://github.com/uprestel/AutoNeRF.git\n",
        "\n",
        "import AutoNeRF.data.data\n",
        "import AutoNeRF.models.cinn as cinn\n",
        "import AutoNeRF.models.blocks as blocks\n",
        "import AutoNeRF.models.loss as cinn_loss\n",
        "import AutoNeRF.models.nerf as nerf\n",
        "import AutoNeRF.models.vae\n",
        "import AutoNeRF.util.utils\n",
        "#import AutoNeRF.cam_util\n",
        "from AutoNeRF.util.transforms import random_rotation, look_at_rotation\n",
        "\n",
        "import time\n",
        "import os\n",
        "import torchvision\n",
        "from torchvision import transforms\n",
        "from torchvision.utils import make_grid\n",
        "from torch.utils.data import Dataset, DataLoader\n",
        "\n",
        "import matplotlib as mpl\n",
        "import matplotlib.pyplot as plt\n",
        "\n",
        "\n",
        "import numpy as np\n",
        "#import plotly.graph_objects as go\n",
        "\n",
        "#import pytorch3d\n",
        "#from pytorch3d.transforms import random_rotation\n",
        "#from pytorch3d.renderer.cameras import look_at_rotation\n",
        "\n",
        "from google.colab import drive\n",
        "drive.mount('/gdrive', force_remount=True)\n"
      ],
      "execution_count": null,
      "outputs": [
        {
          "output_type": "stream",
          "text": [
            "fatal: destination path 'AutoNeRF' already exists and is not an empty directory.\n",
            "Mounted at /gdrive\n"
          ],
          "name": "stdout"
        }
      ]
    },
    {
      "cell_type": "markdown",
      "metadata": {
        "id": "WO3afCcLKg0D"
      },
      "source": [
        "## Determine device to run on (GPU vs CPU)"
      ]
    },
    {
      "cell_type": "code",
      "metadata": {
        "id": "us0x_gGPI4tq"
      },
      "source": [
        "device = torch.device(\"cuda\" if torch.cuda.is_available() else \"cpu\")"
      ],
      "execution_count": null,
      "outputs": []
    },
    {
      "cell_type": "markdown",
      "metadata": {
        "id": "ZSjNg9hx9rjl"
      },
      "source": [
        "## Load trained NeRF model"
      ]
    },
    {
      "cell_type": "code",
      "metadata": {
        "id": "wtXqR_0nOyGV",
        "colab": {
          "base_uri": "https://localhost:8080/"
        },
        "outputId": "02637a6b-f54d-42b3-ab96-2a1d12856654"
      },
      "source": [
        "model = nerf.TinyNerfModel().to(device)\n",
        "model.load_state_dict(torch.load(\"/gdrive/My Drive/nerf_lego.pt\"))\n",
        "model.eval()"
      ],
      "execution_count": null,
      "outputs": [
        {
          "output_type": "execute_result",
          "data": {
            "text/plain": [
              "TinyNerfModel(\n",
              "  (layer1): Linear(in_features=39, out_features=128, bias=True)\n",
              "  (layer2): Linear(in_features=128, out_features=128, bias=True)\n",
              "  (layer3): Linear(in_features=128, out_features=64, bias=True)\n",
              "  (layer4): Linear(in_features=64, out_features=32, bias=True)\n",
              "  (layer5): Linear(in_features=32, out_features=4, bias=True)\n",
              ")"
            ]
          },
          "metadata": {
            "tags": []
          },
          "execution_count": 4
        }
      ]
    },
    {
      "cell_type": "code",
      "metadata": {
        "id": "LW0gHlpn6dSl"
      },
      "source": [
        "torch.save(vaenc.state_dict(), \"/gdrive/My Drive/vae_lego.pt\")"
      ],
      "execution_count": null,
      "outputs": []
    },
    {
      "cell_type": "markdown",
      "metadata": {
        "id": "dJ7EZmcradiX"
      },
      "source": [
        "## cINN training\n",
        "Now that our VAE is ready, we are now learning a normalizing flow to generate new samples"
      ]
    },
    {
      "cell_type": "code",
      "metadata": {
        "id": "UcfTAQI26icc"
      },
      "source": [
        "latent_space = 64\n",
        "batch_size = 32\n",
        "epochs = 40\n",
        "\n",
        "#tau = cinn.ConditionalTransformer(\n",
        "#    in_channels = latent_space,\n",
        "#    cond_channels = 12,\n",
        "#    hidden_dim = 128,\n",
        "#    hidden_depth = 4,\n",
        "#    n_flows = 12\n",
        "#).to(device)\n",
        "\n",
        "# OPTIMIZER: AMSGRAD OR ADAM WITH 1e-2\n",
        "optimizer = torch.optim.Adam(params=tau.parameters(), lr=1e-4)\n",
        "\n",
        "#vae = AutoNeRF.vae.VAE(in_channels = 3, latent_dim=latent_space).to(device)\n",
        "#vae.load_state_dict(torch.load(\"/gdrive/My Drive/vae_lego.pt\"))\n",
        "#vae.eval()\n",
        "\n",
        "\n",
        "dataloader = DataLoader(dataset, batch_size=batch_size, shuffle=True, num_workers=0, drop_last=True)\n",
        "loss = cinn_loss.Loss(None)\n",
        "\n",
        "for epoch in range(epochs):\n",
        "    print(\"--- starting epoch %s ---\"%epoch)\n",
        "    for i, sample in enumerate(dataloader):\n",
        "        optimizer.zero_grad()\n",
        "\n",
        "        images, poses = sample\n",
        "        images = transform(images).to(device)\n",
        "\n",
        "        c_poses = poses.view(batch_size, -1)\n",
        "        c_poses_red = c_poses[:, :12].to(device)\n",
        "\n",
        "        _,_,_,z = vaenc(images)\n",
        "        \n",
        "        z = z[:,:,None,None]\n",
        "        c_poses_red = c_poses_red[:,:,None,None]\n",
        "\n",
        "\n",
        "        zz, logdet = tau(z,c_poses_red)\n",
        "        l = loss(zz, logdet)\n",
        "        l.backward()\n",
        "\n",
        "        optimizer.step()\n",
        "        if i % 100 == 0:\n",
        "            print(l.item())\n",
        "\n",
        "        \n",
        "    \n",
        "\n"
      ],
      "execution_count": null,
      "outputs": []
    },
    {
      "cell_type": "code",
      "metadata": {
        "id": "jIKT-IN6Jp1F"
      },
      "source": [
        "torch.save(tau.state_dict(), \"/gdrive/My Drive/cinn_lego.pt\")"
      ],
      "execution_count": null,
      "outputs": []
    },
    {
      "cell_type": "code",
      "metadata": {
        "id": "JEqTGdGWC-Qd"
      },
      "source": [
        "\n",
        "latent_space=64\n",
        "tau = cinn.ConditionalTransformer(\n",
        "    in_channels = latent_space,\n",
        "    cond_channels = 12,\n",
        "    hidden_dim = 128,\n",
        "    hidden_depth = 4,\n",
        "    n_flows = 12\n",
        ").to(device)\n",
        "tau.load_state_dict(torch.load(\"/gdrive/My Drive/cinn_lego.pt\"))\n",
        "tau.eval()\n",
        "\n",
        "\n",
        "vaenc = AutoNeRF.models.vae.VAE(in_channels = 3, latent_dim=latent_space).to(device)\n",
        "vaenc.load_state_dict(torch.load(\"/gdrive/My Drive/vae_lego.pt\"))\n",
        "vaenc.eval()\n"
      ],
      "execution_count": null,
      "outputs": []
    },
    {
      "cell_type": "code",
      "metadata": {
        "id": "THVog56Fnd6_",
        "colab": {
          "base_uri": "https://localhost:8080/",
          "height": 266
        },
        "outputId": "a3a55612-8c80-4a67-9e68-e91e566ec5aa"
      },
      "source": [
        "batch_size=1\n",
        "dataloader = DataLoader(dataset, batch_size=batch_size, shuffle=True, num_workers=0, drop_last=True)\n",
        "\n",
        "with torch.no_grad():\n",
        "    for i, sample in enumerate(dataloader):\n",
        "\n",
        "        images, poses = sample\n",
        "        \n",
        "        c_poses = poses.view(batch_size, -1)\n",
        "        c_poses_red = c_poses[:, :12].to(device)\n",
        "        c_poses_red = c_poses_red[:,:,None,None]\n",
        "\n",
        "        #_,_,_,z = vae(images)\n",
        "        zz = torch.randn(batch_size, latent_space).to(device)\n",
        "        zz = zz[:,:, None, None]\n",
        "        z = tau.reverse(zz, c_poses_red).squeeze(-1).squeeze(-1)\n",
        "        print(z.shape)\n",
        "        images = vaenc.decode(z)\n",
        "        show(images.cpu())\n",
        "        break"
      ],
      "execution_count": null,
      "outputs": [
        {
          "output_type": "stream",
          "text": [
            "torch.Size([1, 64])\n"
          ],
          "name": "stdout"
        },
        {
          "output_type": "display_data",
          "data": {
            "image/png": "[encoded data removed]",
            "text/plain": [
              "<Figure size 432x288 with 1 Axes>"
            ]
          },
          "metadata": {
            "tags": [],
            "needs_background": "light"
          }
        }
      ]
    },
    {
      "cell_type": "code",
      "metadata": {
        "id": "WbSYWw2mEOyo",
        "colab": {
          "base_uri": "https://localhost:8080/"
        },
        "outputId": "7e04ced0-18fc-41b3-92ef-f6094700274e"
      },
      "source": [
        "translation = torch.tensor(dataset.poses[:, :3,3]).to(device)\n",
        "\n",
        "center = torch.zeros(3).to(device)\n",
        "radius = torch.norm(translation[0] - center, p=2)\n",
        "\n",
        "print(radius, center)\n",
        "\n",
        "SCENE_RADIUS = 2\n",
        "\n",
        "\n",
        "def get_thresholds(r):\n",
        "    diff = r - SCENE_RADIUS\n",
        "    tn = diff\n",
        "    tf = diff + 2*SCENE_RADIUS\n",
        "    return tn, tf\n",
        "\n",
        "\n",
        "def get_new_random_pose(center, radius):\n",
        "    \"\"\"\n",
        "    generates a new pose / perspective for the NeRF model\n",
        "    \"\"\"\n",
        "\n",
        "    rot = random_rotation().to(device)\n",
        "    unit_x = torch.tensor([1.,0.,0.]).to(device)\n",
        "    new_t = center + radius*(rot @ unit_x)\n",
        "\n",
        "    new_t[2] = torch.abs(new_t[2])\n",
        "\n",
        "    up = torch.tensor([0.,0.,1.]).unsqueeze(dim=0).to(device)\n",
        "\n",
        "    #print(new_t)\n",
        "    #print(new_t.shape, center.shape)\n",
        "    #print(type(new_t), type(center))\n",
        "    cam_rot = look_at_rotation(at=new_t.unsqueeze(dim=0), \n",
        "                               camera_position=center.unsqueeze(dim=0),up=up) #tform_cam2world[0, :3, :3]#\n",
        "\n",
        "    #cam_rot[0,2] = 0\n",
        "    #print(cam_rot, \"sss\")\n",
        "    \n",
        "\n",
        "    #cam_rot = torch.transpose(cam_rot, 1,2)\n",
        "    transform = torch.zeros((4,4))#.to(device)\n",
        "    \n",
        "    transform[:3, :3] = cam_rot\n",
        "    transform[:3, 3] = new_t\n",
        "    transform[3, 3] = 1\n",
        "    #print(look_at_rotation(center))\n",
        "    return transform"
      ],
      "execution_count": null,
      "outputs": [
        {
          "output_type": "stream",
          "text": [
            "tensor(3.0827, device='cuda:0') tensor([0., 0., 0.], device='cuda:0')\n"
          ],
          "name": "stdout"
        }
      ]
    },
    {
      "cell_type": "code",
      "metadata": {
        "id": "u-nK1WuBp1aC"
      },
      "source": [
        "from pytorch3d.renderer.cameras import look_at_view_transform\n",
        "from math import radians, sqrt\n",
        "\n",
        "batch_size=1\n",
        "dataloader = DataLoader(dataset, batch_size=batch_size, shuffle=True, num_workers=0, drop_last=True)\n",
        "\n",
        "\n",
        "def show(image, dpi=10, permutation=(1,2,0), **kwargs):\n",
        "    grid_img = torchvision.utils.make_grid(image, **kwargs)\n",
        "    print(grid_img.shape)\n",
        "    plt.imshow(grid_img.permute(permutation))\n",
        "    plt.figsize=(30.0, 30.0)\n",
        "    plt.axis('off')\n",
        "    plt.show()\n",
        "\n",
        "\n",
        "def rotx(alpha):\n",
        "    return torch.tensor([[1,0,0],\n",
        "                         [0, torch.cos(alpha), -torch.sin(alpha)],\n",
        "                         [0, torch.sin(alpha), torch.cos(alpha)]])\n",
        "\n",
        "\n",
        "def roty(alpha):\n",
        "    return torch.tensor([[torch.cos(alpha), 0, torch.sin(alpha)],\n",
        "                         [0, 1, 0],\n",
        "                         [-torch.sin(alpha), 0, torch.cos(alpha)]])\n",
        "\n",
        "\n",
        "def rotz(alpha):\n",
        "    #print(alpha.shape, torch.cos(alpha).shape)\n",
        "    return torch.tensor([[torch.cos(alpha), -torch.sin(alpha), 0],\n",
        "                         [torch.sin(alpha), torch.cos(alpha), 0],\n",
        "                         [0, 0, 1]])\n",
        "\n",
        "\n",
        "def get_new_random_pose(center, radius, alphas):\n",
        "    \"\"\"\n",
        "    generates a new pose / perspective for the NeRF model\n",
        "    \"\"\"\n",
        "\n",
        "    rot = rotz(alphas).to(device)\n",
        "\n",
        "    unit_x = torch.tensor([1.,0.,.7]).to(device)\n",
        "    unit_x /= sqrt(1**2 + .7**2)\n",
        "    new_t = center + radius*(rot @ unit_x) #+ torch.tensor([0., 0., 1.]).to(device)\n",
        "    new_t[2] = torch.abs(new_t[2])\n",
        "\n",
        "    up = torch.tensor([0.,0.,1.]).unsqueeze(dim=0).to(device)\n",
        "    cam_rot = look_at_rotation(at=new_t.unsqueeze(dim=0), \n",
        "                               camera_position=center.unsqueeze(dim=0),up=up) \n",
        "\n",
        "    transform = torch.zeros((4,4))\n",
        "    \n",
        "    transform[:3, :3] = cam_rot\n",
        "    transform[:3, 3] = new_t\n",
        "    transform[3, 3] = 1\n",
        "\n",
        "    return transform\n",
        "\n",
        "\n",
        "def get_new_parametric_pose(center, radius, alphas):\n",
        "    \"\"\"\n",
        "    generates a new pose / perspective for the NeRF model\n",
        "    \"\"\"\n",
        "\n",
        "    rot = rotz(alphas).to(device)\n",
        "\n",
        "    unit_x = torch.tensor([1.,0.,.7]).to(device)\n",
        "    unit_x /= sqrt(1**2 + .7**2)\n",
        "    new_t = center + radius*(rot @ unit_x) #+ torch.tensor([0., 0., 1.]).to(device)\n",
        "    new_t[2] = torch.abs(new_t[2])\n",
        "\n",
        "    up = torch.tensor([0.,0.,1.]).unsqueeze(dim=0).to(device)\n",
        "    cam_rot = look_at_rotation(at=new_t.unsqueeze(dim=0), \n",
        "                               camera_position=center.unsqueeze(dim=0),up=up) \n",
        "\n",
        "    transform = torch.zeros((4,4))\n",
        "    \n",
        "    transform[:3, :3] = cam_rot\n",
        "    transform[:3, 3] = new_t\n",
        "    transform[3, 3] = 1\n",
        "\n",
        "    return transform\n",
        "\n",
        "\n",
        "\n"
      ],
      "execution_count": null,
      "outputs": []
    },
    {
      "cell_type": "markdown",
      "metadata": {
        "id": "vzEgaaCJPv0y"
      },
      "source": [
        "## Render novel views with AutoNeRF"
      ]
    },
    {
      "cell_type": "code",
      "metadata": {
        "id": "2iEUre15PmDv"
      },
      "source": [
        "from math import sin\n",
        "N = 840\n",
        "\n",
        "rendered_images = torch.zeros((N, 3, 100, 100))\n",
        "\n",
        "alphas = torch.linspace(0, radians(360), N)\n",
        "with torch.no_grad():\n",
        "\n",
        "    for i, alpha in enumerate(alphas):\n",
        "        r = radius + .5+ sin(radians(i))\n",
        "        #print(r)\n",
        "        poses = get_new_parametric_pose(center, r, alpha).unsqueeze(dim=0)\n",
        "\n",
        "        #print(nepos.shape)\n",
        "        c_poses = poses.view(batch_size, -1)\n",
        "        c_poses_red = c_poses[:, :12].to(device)\n",
        "        c_poses_red = c_poses_red[:,:,None,None]\n",
        "\n",
        "        t0 = time.time()\n",
        "        zz = torch.randn(batch_size, latent_space).to(device)\n",
        "        zz = zz[:,:, None, None]\n",
        "    \n",
        "        z = tau.reverse(zz, c_poses_red).squeeze(-1).squeeze(-1)\n",
        "        #print(time.time()-t0, \"sec for reverse pass\")\n",
        "        images = vaenc.decode(z)\n",
        "        #print(time.time()-t0, \"sec for rendering\")\n",
        "        #show(images.cpu())\n",
        "        rendered_images[i, :,:,:] = images"
      ],
      "execution_count": null,
      "outputs": []
    }
  ]
}