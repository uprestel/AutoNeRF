{
  "nbformat": 4,
  "nbformat_minor": 0,
  "metadata": {
    "colab": {
      "name": "pose_estimation",
      "provenance": [],
      "collapsed_sections": [],
      "include_colab_link": true
    },
    "kernelspec": {
      "name": "python3",
      "display_name": "Python 3"
    },
    "accelerator": "GPU"
  },
  "cells": [
    {
      "cell_type": "markdown",
      "metadata": {
        "id": "view-in-github",
        "colab_type": "text"
      },
      "source": [
        "<a href=\"https://colab.research.google.com/github/uprestel/AutoNeRF/blob/master/pose_estimation.ipynb\" target=\"_parent\"><img src=\"https://colab.research.google.com/assets/colab-badge.svg\" alt=\"Open In Colab\"/></a>"
      ]
    },
    {
      "cell_type": "markdown",
      "metadata": {
        "id": "XZh3aklt3ZET"
      },
      "source": [
        "# Pose estimation\n",
        "In this Notebook we \n",
        "* load a trained VAE, a trained NeRF to generate images\n",
        "* Next we generate a pose and an image at that pose \n",
        "* Finally, we learn to translate between a pose and a prior given the latent vector of our image\n"
      ]
    },
    {
      "cell_type": "markdown",
      "metadata": {
        "id": "ghRFiG5zKvko"
      },
      "source": [
        "### Load imports"
      ]
    },
    {
      "cell_type": "code",
      "metadata": {
        "id": "ptTYjWao3VsM",
        "colab": {
          "base_uri": "https://localhost:8080/"
        },
        "outputId": "9ab40c7e-5fc3-4d23-a434-7ee95d5343c5"
      },
      "source": [
        "import sys\n",
        "import torch\n",
        "import torch.nn as nn\n",
        "import torch.nn.functional as F\n",
        "\n",
        "!git clone https://github.com/uprestel/AutoNeRF.git\n",
        "\n",
        "import AutoNeRF.data.data\n",
        "import AutoNeRF.models.cinn as cinn\n",
        "import AutoNeRF.models.blocks as blocks\n",
        "import AutoNeRF.models.loss as cinn_loss\n",
        "import AutoNeRF.models.nerf as nerf\n",
        "import AutoNeRF.models.vae\n",
        "import AutoNeRF.util.utils\n",
        "#import AutoNeRF.cam_util\n",
        "from AutoNeRF.util.transforms import random_rotation, look_at_rotation\n",
        "\n",
        "import time\n",
        "import os\n",
        "import torchvision\n",
        "from torchvision import transforms\n",
        "from torchvision.utils import make_grid\n",
        "from torch.utils.data import Dataset, DataLoader\n",
        "\n",
        "import matplotlib as mpl\n",
        "import matplotlib.pyplot as plt\n",
        "\n",
        "\n",
        "import numpy as np\n",
        "\n",
        "from google.colab import drive\n",
        "drive.mount('/gdrive', force_remount=True)\n"
      ],
      "execution_count": 1,
      "outputs": [
        {
          "output_type": "stream",
          "text": [
            "Cloning into 'AutoNeRF'...\n",
            "remote: Enumerating objects: 62, done.\u001b[K\n",
            "remote: Counting objects: 100% (62/62), done.\u001b[K\n",
            "remote: Compressing objects: 100% (62/62), done.\u001b[K\n",
            "remote: Total 432 (delta 27), reused 0 (delta 0), pack-reused 370\u001b[K\n",
            "Receiving objects: 100% (432/432), 41.86 MiB | 32.62 MiB/s, done.\n",
            "Resolving deltas: 100% (223/223), done.\n",
            "Mounted at /gdrive\n"
          ],
          "name": "stdout"
        }
      ]
    },
    {
      "cell_type": "markdown",
      "metadata": {
        "id": "WO3afCcLKg0D"
      },
      "source": [
        "## Determine device to run on (GPU vs CPU)"
      ]
    },
    {
      "cell_type": "code",
      "metadata": {
        "id": "us0x_gGPI4tq"
      },
      "source": [
        "device = torch.device(\"cuda\" if torch.cuda.is_available() else \"cpu\")"
      ],
      "execution_count": 2,
      "outputs": []
    },
    {
      "cell_type": "markdown",
      "metadata": {
        "id": "ZSjNg9hx9rjl"
      },
      "source": [
        "## Load trained NeRF model"
      ]
    },
    {
      "cell_type": "code",
      "metadata": {
        "id": "wtXqR_0nOyGV",
        "colab": {
          "base_uri": "https://localhost:8080/"
        },
        "outputId": "05beff99-92fa-4f9a-d75b-19d5cfab3ad4"
      },
      "source": [
        "model = nerf.TinyNerfModel().to(device)\n",
        "model.load_state_dict(torch.load(\"/gdrive/My Drive/nerf_lego.pt\"))\n",
        "model.eval()"
      ],
      "execution_count": 3,
      "outputs": [
        {
          "output_type": "execute_result",
          "data": {
            "text/plain": [
              "TinyNerfModel(\n",
              "  (layer1): Linear(in_features=39, out_features=128, bias=True)\n",
              "  (layer2): Linear(in_features=128, out_features=128, bias=True)\n",
              "  (layer3): Linear(in_features=128, out_features=64, bias=True)\n",
              "  (layer4): Linear(in_features=64, out_features=32, bias=True)\n",
              "  (layer5): Linear(in_features=32, out_features=4, bias=True)\n",
              ")"
            ]
          },
          "metadata": {
            "tags": []
          },
          "execution_count": 3
        }
      ]
    },
    {
      "cell_type": "markdown",
      "metadata": {
        "id": "dJ7EZmcradiX"
      },
      "source": [
        "## cINN training\n",
        "Now that our VAE is ready, we are now learning a normalizing flow to generate new samples"
      ]
    },
    {
      "cell_type": "code",
      "metadata": {
        "id": "UcfTAQI26icc",
        "colab": {
          "base_uri": "https://localhost:8080/"
        },
        "outputId": "615773af-0080-4a48-a6df-8ebb20d0eb5b"
      },
      "source": [
        "latent_space = 64\n",
        "batch_size = 32\n",
        "epochs = 40\n",
        "\n",
        "\n",
        "def transform(image):\n",
        "    image = (AutoNeRF.util.utils.swap_channels(image))\n",
        "    #image = F.interpolate(image, size=64)\n",
        "    return image\n",
        "\n",
        "\n",
        "# We create an invertible neural Network with the following properties:\n",
        "# * Our conditional input (the latent space vector) is 64-dimensional\n",
        "# * The hidden dimension is twice the size of the number of components in our pose matrix (12 * 2)\n",
        "# * The translations and scalings have the depth 4\n",
        "# * We have 12 alternating coupling layers\n",
        "#tau = cinn.ConditionalTransformer(\n",
        "#    in_channels = 12,\n",
        "#    cond_channels = latent_space,\n",
        "#    hidden_dim = 12 * 3,\n",
        "#    hidden_depth = 5,\n",
        "#    n_flows = 14\n",
        "#).to(device)\n",
        "\n",
        "\n",
        "\n",
        "# OPTIMIZER: AMSGRAD OR ADAM WITH 1e-2\n",
        "optimizer = torch.optim.Adam(params=tau.parameters(), lr=1e-4)\n",
        "\n",
        "\n",
        "pth=\"/gdrive/My Drive/temp_dataset_lego_new3.pt.npz\"\n",
        "\n",
        "\n",
        "dataset = AutoNeRF.data.data.AutoNeRF_Dataset(pth)\n",
        "vae = AutoNeRF.models.vae.VAE(in_channels = 3, latent_dim=latent_space).to(device)\n",
        "vae.load_state_dict(torch.load(\"/gdrive/My Drive/vae_lego.pt\"))\n",
        "vae.eval()\n",
        "\n",
        "\n",
        "dataloader = DataLoader(dataset, batch_size=batch_size, shuffle=True, num_workers=0, drop_last=True)\n",
        "loss = cinn_loss.Loss(None)\n",
        "\n",
        "for epoch in range(epochs):\n",
        "    print(\"--- starting epoch %s ---\"%epoch)\n",
        "    for i, sample in enumerate(dataloader):\n",
        "        optimizer.zero_grad()\n",
        "        \n",
        "        images, poses = sample\n",
        "        images = transform(images).to(device)\n",
        "\n",
        "        poses = poses.view(batch_size, -1)\n",
        "        poses_red = poses[:, :12].to(device)\n",
        "        poses_red = poses_red[:,:,None,None]\n",
        "        _,_,_,z = vae(images)\n",
        "        z = z[:,:,None,None]\n",
        "        #print(poses, poses_red)\n",
        "        #print(z.shape, poses_red.shape)\n",
        "        zz, logdet = tau(poses_red, z)\n",
        "        l = loss(zz, logdet)\n",
        "        l.backward()\n",
        "        \n",
        "        optimizer.step()\n",
        "        if i % 100 == 0:\n",
        "            print(l.item())\n",
        "\n",
        "        \n",
        "    \n",
        "\n"
      ],
      "execution_count": 51,
      "outputs": [
        {
          "output_type": "stream",
          "text": [
            "--- starting epoch 0 ---\n",
            "-60.277225494384766\n",
            "-42.9068717956543\n",
            "-53.247291564941406\n",
            "-54.9243049621582\n",
            "--- starting epoch 1 ---\n",
            "-55.8834114074707\n",
            "-57.45457458496094\n",
            "-58.66928482055664\n",
            "-59.410064697265625\n",
            "--- starting epoch 2 ---\n",
            "-60.99181365966797\n",
            "-60.086612701416016\n",
            "-61.155609130859375\n",
            "-62.359169006347656\n",
            "--- starting epoch 3 ---\n",
            "-62.20445251464844\n",
            "-60.171512603759766\n",
            "-60.47533416748047\n",
            "-62.538299560546875\n",
            "--- starting epoch 4 ---\n",
            "-61.6891975402832\n",
            "-61.19441604614258\n",
            "-63.513973236083984\n",
            "-61.07887649536133\n",
            "--- starting epoch 5 ---\n",
            "-62.85038757324219\n",
            "-61.673519134521484\n",
            "-63.238746643066406\n",
            "-64.25579071044922\n",
            "--- starting epoch 6 ---\n",
            "-65.045654296875\n",
            "-63.23447036743164\n",
            "-63.591304779052734\n",
            "-64.29731750488281\n",
            "--- starting epoch 7 ---\n",
            "-64.35150909423828\n",
            "-63.6099967956543\n",
            "-66.77848052978516\n",
            "-64.03752899169922\n",
            "--- starting epoch 8 ---\n",
            "-60.33941650390625\n",
            "-63.78450012207031\n",
            "-64.57689666748047\n",
            "-62.81800842285156\n",
            "--- starting epoch 9 ---\n",
            "-64.07647705078125\n",
            "-61.102237701416016\n",
            "-63.847259521484375\n",
            "-63.18378448486328\n",
            "--- starting epoch 10 ---\n",
            "-62.955020904541016\n",
            "-63.364173889160156\n",
            "-63.657772064208984\n",
            "-62.7722053527832\n",
            "--- starting epoch 11 ---\n",
            "-63.709503173828125\n",
            "-63.45695877075195\n",
            "-57.644718170166016\n",
            "-64.90555572509766\n",
            "--- starting epoch 12 ---\n",
            "-63.07611083984375\n",
            "-61.60935974121094\n",
            "-64.12258911132812\n",
            "-61.43723678588867\n",
            "--- starting epoch 13 ---\n",
            "-65.37303924560547\n",
            "-57.08781433105469\n",
            "-63.901512145996094\n",
            "-65.26361846923828\n",
            "--- starting epoch 14 ---\n",
            "-58.32939910888672\n",
            "-65.03119659423828\n",
            "-65.05642700195312\n",
            "-64.15020751953125\n",
            "--- starting epoch 15 ---\n",
            "-64.50553131103516\n",
            "-65.02482604980469\n",
            "-62.81858825683594\n",
            "-54.21587371826172\n",
            "--- starting epoch 16 ---\n",
            "-54.5045280456543\n",
            "-60.3740119934082\n",
            "-62.0974235534668\n",
            "-63.760250091552734\n",
            "--- starting epoch 17 ---\n",
            "-64.4449462890625\n",
            "-64.13873291015625\n",
            "-65.01112365722656\n",
            "-65.17286682128906\n",
            "--- starting epoch 18 ---\n",
            "-65.73035430908203\n",
            "-64.64189147949219\n",
            "-63.81187438964844\n",
            "-64.49398040771484\n",
            "--- starting epoch 19 ---\n",
            "-62.619720458984375\n",
            "-65.824462890625\n",
            "-64.56462097167969\n",
            "-62.274803161621094\n",
            "--- starting epoch 20 ---\n",
            "-65.08190155029297\n",
            "-64.97289276123047\n",
            "-66.49746704101562\n",
            "-60.37773895263672\n",
            "--- starting epoch 21 ---\n",
            "-61.808921813964844\n",
            "-61.93295669555664\n",
            "-65.65876007080078\n",
            "-64.78462982177734\n",
            "--- starting epoch 22 ---\n",
            "-64.344970703125\n",
            "-67.07294464111328\n",
            "-65.11148071289062\n",
            "-66.43302917480469\n",
            "--- starting epoch 23 ---\n",
            "-65.91290283203125\n",
            "-63.090065002441406\n",
            "-62.88304901123047\n",
            "-60.961551666259766\n",
            "--- starting epoch 24 ---\n",
            "8.248123168945312\n",
            "-65.22511291503906\n",
            "-63.720497131347656\n",
            "-65.61380004882812\n",
            "--- starting epoch 25 ---\n",
            "-66.3819351196289\n",
            "-64.11885833740234\n",
            "-62.89711380004883\n",
            "-64.04133605957031\n",
            "--- starting epoch 26 ---\n",
            "-65.06842803955078\n",
            "-32.39045715332031\n",
            "-64.76372528076172\n",
            "-65.19319152832031\n",
            "--- starting epoch 27 ---\n",
            "-65.62178039550781\n",
            "-66.28839874267578\n",
            "-65.56539154052734\n",
            "-57.50400924682617\n",
            "--- starting epoch 28 ---\n",
            "-60.64079284667969\n",
            "-64.53142547607422\n",
            "-58.00571060180664\n",
            "-65.13103485107422\n",
            "--- starting epoch 29 ---\n",
            "-64.04054260253906\n",
            "-65.14280700683594\n",
            "-58.2724494934082\n",
            "-65.77275085449219\n",
            "--- starting epoch 30 ---\n",
            "-66.07852172851562\n",
            "-62.74970626831055\n",
            "-65.04754638671875\n",
            "-64.18626403808594\n",
            "--- starting epoch 31 ---\n",
            "-65.9541015625\n",
            "-61.35746383666992\n",
            "-62.41101837158203\n",
            "-65.60420227050781\n",
            "--- starting epoch 32 ---\n",
            "-66.0332260131836\n",
            "-65.94589233398438\n",
            "-65.83531188964844\n",
            "-64.8573226928711\n",
            "--- starting epoch 33 ---\n",
            "-66.02210998535156\n",
            "-63.17241668701172\n",
            "-66.16995239257812\n",
            "-64.37644958496094\n",
            "--- starting epoch 34 ---\n",
            "-65.30709075927734\n",
            "-63.50647735595703\n",
            "-62.480796813964844\n",
            "-66.19190216064453\n",
            "--- starting epoch 35 ---\n",
            "-65.32881927490234\n",
            "-64.79708862304688\n",
            "-67.43783569335938\n",
            "-66.24089813232422\n",
            "--- starting epoch 36 ---\n",
            "-66.50473022460938\n",
            "-63.14042663574219\n",
            "-65.33799743652344\n",
            "-64.62957000732422\n",
            "--- starting epoch 37 ---\n",
            "-61.65290832519531\n",
            "-64.65125274658203\n",
            "-64.27616882324219\n",
            "-65.69783782958984\n",
            "--- starting epoch 38 ---\n",
            "-65.6531982421875\n",
            "-64.15418243408203\n",
            "-67.46112823486328\n",
            "-64.56150817871094\n",
            "--- starting epoch 39 ---\n",
            "-65.5061264038086\n",
            "-65.89804077148438\n",
            "-65.9644546508789\n",
            "-7.7928314208984375\n"
          ],
          "name": "stdout"
        }
      ]
    },
    {
      "cell_type": "code",
      "metadata": {
        "id": "jIKT-IN6Jp1F"
      },
      "source": [
        "torch.save(tau.state_dict(), \"/gdrive/My Drive/cinn_lego_pose.pt\")"
      ],
      "execution_count": 52,
      "outputs": []
    },
    {
      "cell_type": "code",
      "metadata": {
        "id": "JEqTGdGWC-Qd"
      },
      "source": [
        "\n",
        "tau = cinn.ConditionalTransformer(\n",
        "    in_channels = 12,\n",
        "    cond_channels = latent_space,\n",
        "    hidden_dim = 12 * 3,\n",
        "    hidden_depth = 5,\n",
        "    n_flows = 14\n",
        ").to(device)\n",
        "tau.load_state_dict(torch.load(\"/gdrive/My Drive/cinn_lego_pose.pt\"))\n",
        "tau.eval()\n",
        "\n",
        "\n",
        "#vaenc = AutoNeRF.models.vae.VAE(in_channels = 3, latent_dim=latent_space).to(device)\n",
        "#vaenc.load_state_dict(torch.load(\"/gdrive/My Drive/vae_lego.pt\"))\n",
        "#vaenc.eval()\n"
      ],
      "execution_count": null,
      "outputs": []
    },
    {
      "cell_type": "code",
      "metadata": {
        "id": "THVog56Fnd6_",
        "colab": {
          "base_uri": "https://localhost:8080/"
        },
        "outputId": "d91176ec-5a4a-4c6b-ba52-1326945bf5a4"
      },
      "source": [
        "batch_size=1\n",
        "dataloader = DataLoader(dataset, batch_size=batch_size, shuffle=True, num_workers=0, drop_last=True)\n",
        "\n",
        "with torch.no_grad():\n",
        "    for i, sample in enumerate(dataloader):\n",
        "\n",
        "        images, poses = sample\n",
        "        images = transform(images).to(device)\n",
        "        poses = poses.view(batch_size, -1)\n",
        "        poses_red = poses[:, :12].to(device)\n",
        "        poses_red = poses_red[:,:,None,None]\n",
        "\n",
        "        _,_,_,z = vae(images)\n",
        "        z = z[:,:,None,None]\n",
        "        #print(z.shape)\n",
        "        zz = torch.randn(batch_size, 12).to(device)\n",
        "        zz = zz[:,:, None, None]\n",
        "        #print(zz.shape)\n",
        "        print(poses_red.squeeze(-1).squeeze(-1))\n",
        "        pred_pose = tau.reverse(zz, z).squeeze(-1).squeeze(-1)\n",
        "        print(pred_pose)\n",
        "        #print(z.shape)\n",
        "        #images = vaenc.decode(z)\n",
        "        #show(images.cpu())\n",
        "        print(torch.nn.functional.mse_loss(poses_red.squeeze(-1).squeeze(-1), pred_pose))\n",
        "        break"
      ],
      "execution_count": 63,
      "outputs": [
        {
          "output_type": "stream",
          "text": [
            "tensor([[ 0.7310, -0.2951,  0.6153,  2.6948,  0.6824,  0.3162, -0.6591, -2.8868,\n",
            "         -0.0000,  0.9016,  0.4325,  1.8943]], device='cuda:0')\n",
            "tensor([[ 7.0239e-01, -2.8900e-01,  6.7400e-01,  2.8568e+00,  7.2844e-01,\n",
            "          3.0578e-01, -6.4199e-01, -2.8282e+00, -4.6639e-06,  9.0434e-01,\n",
            "          4.3960e-01,  1.9330e+00]], device='cuda:0')\n",
            "tensor(0.0032, device='cuda:0')\n"
          ],
          "name": "stdout"
        }
      ]
    },
    {
      "cell_type": "code",
      "metadata": {
        "id": "WbSYWw2mEOyo",
        "colab": {
          "base_uri": "https://localhost:8080/"
        },
        "outputId": "7e04ced0-18fc-41b3-92ef-f6094700274e"
      },
      "source": [
        "translation = torch.tensor(dataset.poses[:, :3,3]).to(device)\n",
        "\n",
        "center = torch.zeros(3).to(device)\n",
        "radius = torch.norm(translation[0] - center, p=2)\n",
        "\n",
        "print(radius, center)\n",
        "\n",
        "SCENE_RADIUS = 2\n",
        "\n",
        "\n",
        "def get_thresholds(r):\n",
        "    diff = r - SCENE_RADIUS\n",
        "    tn = diff\n",
        "    tf = diff + 2*SCENE_RADIUS\n",
        "    return tn, tf\n",
        "\n",
        "\n",
        "def get_new_random_pose(center, radius):\n",
        "    \"\"\"\n",
        "    generates a new pose / perspective for the NeRF model\n",
        "    \"\"\"\n",
        "\n",
        "    rot = random_rotation().to(device)\n",
        "    unit_x = torch.tensor([1.,0.,0.]).to(device)\n",
        "    new_t = center + radius*(rot @ unit_x)\n",
        "\n",
        "    new_t[2] = torch.abs(new_t[2])\n",
        "\n",
        "    up = torch.tensor([0.,0.,1.]).unsqueeze(dim=0).to(device)\n",
        "\n",
        "    #print(new_t)\n",
        "    #print(new_t.shape, center.shape)\n",
        "    #print(type(new_t), type(center))\n",
        "    cam_rot = look_at_rotation(at=new_t.unsqueeze(dim=0), \n",
        "                               camera_position=center.unsqueeze(dim=0),up=up) #tform_cam2world[0, :3, :3]#\n",
        "\n",
        "    #cam_rot[0,2] = 0\n",
        "    #print(cam_rot, \"sss\")\n",
        "    \n",
        "\n",
        "    #cam_rot = torch.transpose(cam_rot, 1,2)\n",
        "    transform = torch.zeros((4,4))#.to(device)\n",
        "    \n",
        "    transform[:3, :3] = cam_rot\n",
        "    transform[:3, 3] = new_t\n",
        "    transform[3, 3] = 1\n",
        "    #print(look_at_rotation(center))\n",
        "    return transform"
      ],
      "execution_count": null,
      "outputs": [
        {
          "output_type": "stream",
          "text": [
            "tensor(3.0827, device='cuda:0') tensor([0., 0., 0.], device='cuda:0')\n"
          ],
          "name": "stdout"
        }
      ]
    },
    {
      "cell_type": "markdown",
      "metadata": {
        "id": "NNhBe1P_yHkc"
      },
      "source": [
        "# Pose estimation example"
      ]
    },
    {
      "cell_type": "code",
      "metadata": {
        "colab": {
          "base_uri": "https://localhost:8080/",
          "height": 266
        },
        "id": "Q9J9aDnwvYqZ",
        "outputId": "d10f647a-94a4-444f-ef84-8a16dc23fa53"
      },
      "source": [
        "dataset = AutoNeRF.data.data.AutoNeRF_Dataset(\"/gdrive/My Drive/chair.npz\")\n",
        "\n",
        "\n",
        "images = torch.from_numpy(dataset.images).to(device)\n",
        "focal_length = torch.from_numpy(dataset.focal_length).to(device)\n",
        "poses = torch.from_numpy(dataset.poses).to(device)\n",
        "\n",
        "height, width = images.shape[1:3]\n",
        "\n",
        "UP = torch.tensor([0.,0.,1.]).unsqueeze(dim=0).to(device)\n",
        "translation = torch.tensor(dataset.poses[:, :3,3]).to(device)\n",
        "\n",
        "center = torch.zeros(3).to(device)\n",
        "radius = torch.norm(translation[0] - center, p=2)\n",
        "height, width = 100,100\n",
        "print(radius, center)\n",
        "\n",
        "SCENE_RADIUS = 2\n",
        "near_thresh, far_thresh = get_thresholds(radius)\n",
        "\n",
        "num_encoding_functions = 6\n",
        "# Specify encoding function.\n",
        "encode = lambda x: nerf.positional_encoding(x, num_encoding_functions=num_encoding_functions)\n",
        "# Number of depth samples along each ray.\n",
        "depth_samples_per_ray = 228\n",
        "\n",
        "def show(image, permutation=(0,1,2)):\n",
        "    grid_img = torchvision.utils.make_grid(image, nrow=5)\n",
        "    plt.imshow(grid_img.permute(permutation))\n",
        "    plt.axis('off')\n",
        "    plt.show()\n",
        "\n",
        "def get_thresholds(r):\n",
        "    diff = r - SCENE_RADIUS\n",
        "    tn = diff\n",
        "    tf = diff + 2*SCENE_RADIUS\n",
        "    return tn, tf\n",
        "\n",
        "def get_new_pose(center, radius):\n",
        "    \"\"\"\n",
        "    generates a new pose / perspective for the NeRF model\n",
        "    \"\"\"\n",
        "\n",
        "    rot = random_rotation().to(device)\n",
        "    unit_x = torch.tensor([1.,0.,0.]).to(device)\n",
        "    new_t = center + radius*(rot @ unit_x)\n",
        "\n",
        "    new_t[2] = torch.abs(new_t[2])\n",
        "\n",
        "\n",
        "    cam_rot = look_at_rotation(at=new_t.unsqueeze(dim=0), \n",
        "                               camera_position=center.unsqueeze(dim=0),up=UP) #tform_cam2world[0, :3, :3]#\n",
        "\n",
        "    #cam_rot = torch.transpose(cam_rot, 1,2)\n",
        "    transform = torch.zeros((4,4))#.to(device)\n",
        "    \n",
        "    transform[:3, :3] = cam_rot\n",
        "    transform[:3, 3] = new_t\n",
        "    transform[3, 3] = 1\n",
        "    #print(look_at_rotation(center))\n",
        "    return transform\n",
        "\n",
        "\n",
        "depth_samples_per_ray = 240\n",
        "\n",
        "r = torch.tensor(np.random.uniform(radius.item()-1, radius.item()+1)).to(device)\n",
        "near_thresh, fat_thresh = get_thresholds(r)\n",
        "\n",
        "new_pose = get_new_pose(center, r).to(device)\n",
        "predicted = nerf.nerf_prediction(model, height, width, focal_length, new_pose,\n",
        "                             near_thresh, far_thresh, depth_samples_per_ray,\n",
        "                             encode, nerf.get_minibatches)\n",
        "\n",
        "show(predicted.cpu())"
      ],
      "execution_count": 74,
      "outputs": [
        {
          "output_type": "stream",
          "text": [
            "tensor(4.0311, device='cuda:0') tensor([0., 0., 0.], device='cuda:0')\n"
          ],
          "name": "stdout"
        },
        {
          "output_type": "display_data",
          "data": {
            "image/png": "[encoded data removed]",
            "text/plain": [
              "<Figure size 432x288 with 1 Axes>"
            ]
          },
          "metadata": {
            "tags": [],
            "needs_background": "light"
          }
        }
      ]
    }
  ]
}