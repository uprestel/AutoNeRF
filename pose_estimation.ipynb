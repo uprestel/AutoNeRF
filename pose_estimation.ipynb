{
  "nbformat": 4,
  "nbformat_minor": 0,
  "metadata": {
    "colab": {
      "name": "pose_estimation",
      "provenance": [],
      "collapsed_sections": [],
      "include_colab_link": true
    },
    "kernelspec": {
      "name": "python3",
      "display_name": "Python 3"
    },
    "accelerator": "GPU"
  },
  "cells": [
    {
      "cell_type": "markdown",
      "metadata": {
        "id": "view-in-github",
        "colab_type": "text"
      },
      "source": [
        "<a href=\"https://colab.research.google.com/github/uprestel/AutoNeRF/blob/master/pose_estimation.ipynb\" target=\"_parent\"><img src=\"https://colab.research.google.com/assets/colab-badge.svg\" alt=\"Open In Colab\"/></a>"
      ]
    },
    {
      "cell_type": "markdown",
      "metadata": {
        "id": "XZh3aklt3ZET"
      },
      "source": [
        "# Pose estimation\n",
        "In this Notebook we \n",
        "* load a trained VAE, a trained NeRF to generate images\n",
        "* Next we generate a pose and an image at that pose \n",
        "* Finally, we learn to translate between a pose and a prior given the latent vector of our image\n"
      ]
    },
    {
      "cell_type": "markdown",
      "metadata": {
        "id": "ghRFiG5zKvko"
      },
      "source": [
        "### Load imports"
      ]
    },
    {
      "cell_type": "code",
      "metadata": {
        "id": "ptTYjWao3VsM",
        "colab": {
          "base_uri": "https://localhost:8080/"
        },
        "outputId": "9ab40c7e-5fc3-4d23-a434-7ee95d5343c5"
      },
      "source": [
        "import sys\n",
        "import torch\n",
        "import torch.nn as nn\n",
        "import torch.nn.functional as F\n",
        "\n",
        "!git clone https://github.com/uprestel/AutoNeRF.git\n",
        "\n",
        "import AutoNeRF.data.data\n",
        "import AutoNeRF.models.cinn as cinn\n",
        "import AutoNeRF.models.blocks as blocks\n",
        "import AutoNeRF.models.loss as cinn_loss\n",
        "import AutoNeRF.models.nerf as nerf\n",
        "import AutoNeRF.models.vae\n",
        "import AutoNeRF.util.utils\n",
        "#import AutoNeRF.cam_util\n",
        "from AutoNeRF.util.transforms import random_rotation, look_at_rotation\n",
        "\n",
        "import time\n",
        "import os\n",
        "import torchvision\n",
        "from torchvision import transforms\n",
        "from torchvision.utils import make_grid\n",
        "from torch.utils.data import Dataset, DataLoader\n",
        "\n",
        "import matplotlib as mpl\n",
        "import matplotlib.pyplot as plt\n",
        "\n",
        "\n",
        "import numpy as np\n",
        "\n",
        "from google.colab import drive\n",
        "drive.mount('/gdrive', force_remount=True)\n"
      ],
      "execution_count": 1,
      "outputs": [
        {
          "output_type": "stream",
          "text": [
            "Cloning into 'AutoNeRF'...\n",
            "remote: Enumerating objects: 62, done.\u001b[K\n",
            "remote: Counting objects: 100% (62/62), done.\u001b[K\n",
            "remote: Compressing objects: 100% (62/62), done.\u001b[K\n",
            "remote: Total 432 (delta 27), reused 0 (delta 0), pack-reused 370\u001b[K\n",
            "Receiving objects: 100% (432/432), 41.86 MiB | 32.62 MiB/s, done.\n",
            "Resolving deltas: 100% (223/223), done.\n",
            "Mounted at /gdrive\n"
          ],
          "name": "stdout"
        }
      ]
    },
    {
      "cell_type": "markdown",
      "metadata": {
        "id": "WO3afCcLKg0D"
      },
      "source": [
        "## Determine device to run on (GPU vs CPU)"
      ]
    },
    {
      "cell_type": "code",
      "metadata": {
        "id": "us0x_gGPI4tq"
      },
      "source": [
        "device = torch.device(\"cuda\" if torch.cuda.is_available() else \"cpu\")"
      ],
      "execution_count": 2,
      "outputs": []
    },
    {
      "cell_type": "markdown",
      "metadata": {
        "id": "ZSjNg9hx9rjl"
      },
      "source": [
        "## Load trained NeRF model"
      ]
    },
    {
      "cell_type": "code",
      "metadata": {
        "id": "wtXqR_0nOyGV",
        "colab": {
          "base_uri": "https://localhost:8080/"
        },
        "outputId": "05beff99-92fa-4f9a-d75b-19d5cfab3ad4"
      },
      "source": [
        "model = nerf.TinyNerfModel().to(device)\n",
        "model.load_state_dict(torch.load(\"/gdrive/My Drive/nerf_lego.pt\"))\n",
        "model.eval()"
      ],
      "execution_count": 3,
      "outputs": [
        {
          "output_type": "execute_result",
          "data": {
            "text/plain": [
              "TinyNerfModel(\n",
              "  (layer1): Linear(in_features=39, out_features=128, bias=True)\n",
              "  (layer2): Linear(in_features=128, out_features=128, bias=True)\n",
              "  (layer3): Linear(in_features=128, out_features=64, bias=True)\n",
              "  (layer4): Linear(in_features=64, out_features=32, bias=True)\n",
              "  (layer5): Linear(in_features=32, out_features=4, bias=True)\n",
              ")"
            ]
          },
          "metadata": {
            "tags": []
          },
          "execution_count": 3
        }
      ]
    },
    {
      "cell_type": "markdown",
      "metadata": {
        "id": "dJ7EZmcradiX"
      },
      "source": [
        "## cINN training\n",
        "Now that our VAE is ready, we are now learning a normalizing flow to generate new samples"
      ]
    },
    {
      "cell_type": "code",
      "metadata": {
        "id": "UcfTAQI26icc",
        "colab": {
          "base_uri": "https://localhost:8080/"
        },
        "outputId": "615773af-0080-4a48-a6df-8ebb20d0eb5b"
      },
      "source": [
        "latent_space = 64\n",
        "batch_size = 32\n",
        "epochs = 40\n",
        "\n",
        "\n",
        "def transform(image):\n",
        "    image = (AutoNeRF.util.utils.swap_channels(image))\n",
        "    #image = F.interpolate(image, size=64)\n",
        "    return image\n",
        "\n",
        "\n",
        "# We create an invertible neural Network with the following properties:\n",
        "# * Our conditional input (the latent space vector) is 64-dimensional\n",
        "# * The hidden dimension is twice the size of the number of components in our pose matrix (12 * 2)\n",
        "# * The translations and scalings have the depth 4\n",
        "# * We have 12 alternating coupling layers\n",
        "#tau = cinn.ConditionalTransformer(\n",
        "#    in_channels = 12,\n",
        "#    cond_channels = latent_space,\n",
        "#    hidden_dim = 12 * 3,\n",
        "#    hidden_depth = 5,\n",
        "#    n_flows = 14\n",
        "#).to(device)\n",
        "\n",
        "\n",
        "\n",
        "# OPTIMIZER: AMSGRAD OR ADAM WITH 1e-2\n",
        "optimizer = torch.optim.Adam(params=tau.parameters(), lr=1e-4)\n",
        "\n",
        "\n",
        "pth=\"/gdrive/My Drive/temp_dataset_lego_new3.pt.npz\"\n",
        "\n",
        "\n",
        "dataset = AutoNeRF.data.data.AutoNeRF_Dataset(pth)\n",
        "vae = AutoNeRF.models.vae.VAE(in_channels = 3, latent_dim=latent_space).to(device)\n",
        "vae.load_state_dict(torch.load(\"/gdrive/My Drive/vae_lego.pt\"))\n",
        "vae.eval()\n",
        "\n",
        "\n",
        "dataloader = DataLoader(dataset, batch_size=batch_size, shuffle=True, num_workers=0, drop_last=True)\n",
        "loss = cinn_loss.Loss(None)\n",
        "\n",
        "for epoch in range(epochs):\n",
        "    print(\"--- starting epoch %s ---\"%epoch)\n",
        "    for i, sample in enumerate(dataloader):\n",
        "        optimizer.zero_grad()\n",
        "        \n",
        "        images, poses = sample\n",
        "        images = transform(images).to(device)\n",
        "\n",
        "        poses = poses.view(batch_size, -1)\n",
        "        poses_red = poses[:, :12].to(device)\n",
        "        poses_red = poses_red[:,:,None,None]\n",
        "        _,_,_,z = vae(images)\n",
        "        z = z[:,:,None,None]\n",
        "        #print(poses, poses_red)\n",
        "        #print(z.shape, poses_red.shape)\n",
        "        zz, logdet = tau(poses_red, z)\n",
        "        l = loss(zz, logdet)\n",
        "        l.backward()\n",
        "        \n",
        "        optimizer.step()\n",
        "        if i % 100 == 0:\n",
        "            print(l.item())\n",
        "\n",
        "        \n",
        "    \n",
        "\n"
      ],
      "execution_count": null,
      "outputs": [
        {
          "output_type": "stream",
          "text": [
            "--- starting epoch 0 ---\n",
            "-60.277225494384766\n",
            "-42.9068717956543\n",
            "-53.247291564941406\n",
            "-54.9243049621582\n",
            "--- starting epoch 1 ---\n",
            "-55.8834114074707\n"
          ],
          "name": "stdout"
        }
      ]
    },
    {
      "cell_type": "code",
      "metadata": {
        "id": "jIKT-IN6Jp1F"
      },
      "source": [
        "torch.save(tau.state_dict(), \"/gdrive/My Drive/cinn_lego_pose.pt\")"
      ],
      "execution_count": 45,
      "outputs": []
    },
    {
      "cell_type": "code",
      "metadata": {
        "id": "JEqTGdGWC-Qd"
      },
      "source": [
        "\n",
        "tau = cinn.ConditionalTransformer(\n",
        "    in_channels = 12,\n",
        "    cond_channels = latent_space,\n",
        "    hidden_dim = 12 * 3,\n",
        "    hidden_depth = 5,\n",
        "    n_flows = 14\n",
        ").to(device)\n",
        "tau.load_state_dict(torch.load(\"/gdrive/My Drive/cinn_lego_pose.pt\"))\n",
        "tau.eval()\n",
        "\n",
        "\n",
        "#vaenc = AutoNeRF.models.vae.VAE(in_channels = 3, latent_dim=latent_space).to(device)\n",
        "#vaenc.load_state_dict(torch.load(\"/gdrive/My Drive/vae_lego.pt\"))\n",
        "#vaenc.eval()\n"
      ],
      "execution_count": null,
      "outputs": []
    },
    {
      "cell_type": "code",
      "metadata": {
        "id": "THVog56Fnd6_",
        "colab": {
          "base_uri": "https://localhost:8080/"
        },
        "outputId": "e1ea0ae1-100b-4c05-eb6b-c4ccdc267fd1"
      },
      "source": [
        "batch_size=1\n",
        "dataloader = DataLoader(dataset, batch_size=batch_size, shuffle=True, num_workers=0, drop_last=True)\n",
        "\n",
        "with torch.no_grad():\n",
        "    for i, sample in enumerate(dataloader):\n",
        "\n",
        "        images, poses = sample\n",
        "        images = transform(images).to(device)\n",
        "        poses = poses.view(batch_size, -1)\n",
        "        poses_red = poses[:, :12].to(device)\n",
        "        poses_red = poses_red[:,:,None,None]\n",
        "\n",
        "        _,_,_,z = vae(images)\n",
        "        z = z[:,:,None,None]\n",
        "        #print(z.shape)\n",
        "        zz = torch.randn(batch_size, 12).to(device)\n",
        "        zz = zz[:,:, None, None]\n",
        "        #print(zz.shape)\n",
        "        print(poses_red.squeeze(-1).squeeze(-1))\n",
        "        pred_pose = tau.reverse(zz, z).squeeze(-1).squeeze(-1)\n",
        "        print(pred_pose)\n",
        "        #print(z.shape)\n",
        "        #images = vaenc.decode(z)\n",
        "        #show(images.cpu())\n",
        "        break"
      ],
      "execution_count": 50,
      "outputs": [
        {
          "output_type": "stream",
          "text": [
            "tensor([[ 0.7554, -0.5260,  0.3907,  1.9374,  0.6553,  0.6064, -0.4504, -2.2333,\n",
            "         -0.0000,  0.5963,  0.8028,  3.9804]], device='cuda:0')\n",
            "tensor([[ 7.3280e-01, -5.3402e-01,  3.5509e-01,  1.6698e+00,  6.1801e-01,\n",
            "          6.1119e-01, -3.9641e-01, -1.9330e+00,  6.7243e-06,  5.6839e-01,\n",
            "          8.1131e-01,  4.0257e+00]], device='cuda:0')\n"
          ],
          "name": "stdout"
        }
      ]
    },
    {
      "cell_type": "code",
      "metadata": {
        "id": "WbSYWw2mEOyo",
        "colab": {
          "base_uri": "https://localhost:8080/"
        },
        "outputId": "7e04ced0-18fc-41b3-92ef-f6094700274e"
      },
      "source": [
        "translation = torch.tensor(dataset.poses[:, :3,3]).to(device)\n",
        "\n",
        "center = torch.zeros(3).to(device)\n",
        "radius = torch.norm(translation[0] - center, p=2)\n",
        "\n",
        "print(radius, center)\n",
        "\n",
        "SCENE_RADIUS = 2\n",
        "\n",
        "\n",
        "def get_thresholds(r):\n",
        "    diff = r - SCENE_RADIUS\n",
        "    tn = diff\n",
        "    tf = diff + 2*SCENE_RADIUS\n",
        "    return tn, tf\n",
        "\n",
        "\n",
        "def get_new_random_pose(center, radius):\n",
        "    \"\"\"\n",
        "    generates a new pose / perspective for the NeRF model\n",
        "    \"\"\"\n",
        "\n",
        "    rot = random_rotation().to(device)\n",
        "    unit_x = torch.tensor([1.,0.,0.]).to(device)\n",
        "    new_t = center + radius*(rot @ unit_x)\n",
        "\n",
        "    new_t[2] = torch.abs(new_t[2])\n",
        "\n",
        "    up = torch.tensor([0.,0.,1.]).unsqueeze(dim=0).to(device)\n",
        "\n",
        "    #print(new_t)\n",
        "    #print(new_t.shape, center.shape)\n",
        "    #print(type(new_t), type(center))\n",
        "    cam_rot = look_at_rotation(at=new_t.unsqueeze(dim=0), \n",
        "                               camera_position=center.unsqueeze(dim=0),up=up) #tform_cam2world[0, :3, :3]#\n",
        "\n",
        "    #cam_rot[0,2] = 0\n",
        "    #print(cam_rot, \"sss\")\n",
        "    \n",
        "\n",
        "    #cam_rot = torch.transpose(cam_rot, 1,2)\n",
        "    transform = torch.zeros((4,4))#.to(device)\n",
        "    \n",
        "    transform[:3, :3] = cam_rot\n",
        "    transform[:3, 3] = new_t\n",
        "    transform[3, 3] = 1\n",
        "    #print(look_at_rotation(center))\n",
        "    return transform"
      ],
      "execution_count": null,
      "outputs": [
        {
          "output_type": "stream",
          "text": [
            "tensor(3.0827, device='cuda:0') tensor([0., 0., 0.], device='cuda:0')\n"
          ],
          "name": "stdout"
        }
      ]
    },
    {
      "cell_type": "code",
      "metadata": {
        "id": "u-nK1WuBp1aC",
        "colab": {
          "base_uri": "https://localhost:8080/",
          "height": 395
        },
        "outputId": "bd89403f-e672-4197-f489-f07daf5171ab"
      },
      "source": [
        "from pytorch3d.renderer.cameras import look_at_view_transform\n",
        "from math import radians, sqrt\n",
        "\n",
        "batch_size=1\n",
        "dataloader = DataLoader(dataset, batch_size=batch_size, shuffle=True, num_workers=0, drop_last=True)\n",
        "\n",
        "\n",
        "def show(image, dpi=10, permutation=(1,2,0), **kwargs):\n",
        "    grid_img = torchvision.utils.make_grid(image, **kwargs)\n",
        "    print(grid_img.shape)\n",
        "    plt.imshow(grid_img.permute(permutation))\n",
        "    plt.figsize=(30.0, 30.0)\n",
        "    plt.axis('off')\n",
        "    plt.show()\n",
        "\n",
        "\n",
        "def rotx(alpha):\n",
        "    return torch.tensor([[1,0,0],\n",
        "                         [0, torch.cos(alpha), -torch.sin(alpha)],\n",
        "                         [0, torch.sin(alpha), torch.cos(alpha)]])\n",
        "\n",
        "\n",
        "def roty(alpha):\n",
        "    return torch.tensor([[torch.cos(alpha), 0, torch.sin(alpha)],\n",
        "                         [0, 1, 0],\n",
        "                         [-torch.sin(alpha), 0, torch.cos(alpha)]])\n",
        "\n",
        "\n",
        "def rotz(alpha):\n",
        "    #print(alpha.shape, torch.cos(alpha).shape)\n",
        "    return torch.tensor([[torch.cos(alpha), -torch.sin(alpha), 0],\n",
        "                         [torch.sin(alpha), torch.cos(alpha), 0],\n",
        "                         [0, 0, 1]])\n",
        "\n",
        "\n",
        "def get_new_random_pose(center, radius, alphas):\n",
        "    \"\"\"\n",
        "    generates a new pose / perspective for the NeRF model\n",
        "    \"\"\"\n",
        "\n",
        "    rot = rotz(alphas).to(device)\n",
        "\n",
        "    unit_x = torch.tensor([1.,0.,.7]).to(device)\n",
        "    unit_x /= sqrt(1**2 + .7**2)\n",
        "    new_t = center + radius*(rot @ unit_x) #+ torch.tensor([0., 0., 1.]).to(device)\n",
        "    new_t[2] = torch.abs(new_t[2])\n",
        "\n",
        "    up = torch.tensor([0.,0.,1.]).unsqueeze(dim=0).to(device)\n",
        "    cam_rot = look_at_rotation(at=new_t.unsqueeze(dim=0), \n",
        "                               camera_position=center.unsqueeze(dim=0),up=up) \n",
        "\n",
        "    transform = torch.zeros((4,4))\n",
        "    \n",
        "    transform[:3, :3] = cam_rot\n",
        "    transform[:3, 3] = new_t\n",
        "    transform[3, 3] = 1\n",
        "\n",
        "    return transform\n",
        "\n",
        "\n",
        "def get_new_parametric_pose(center, radius, alphas):\n",
        "    \"\"\"\n",
        "    generates a new pose / perspective for the NeRF model\n",
        "    \"\"\"\n",
        "\n",
        "    rot = rotz(alphas).to(device)\n",
        "\n",
        "    unit_x = torch.tensor([1.,0.,.7]).to(device)\n",
        "    unit_x /= sqrt(1**2 + .7**2)\n",
        "    new_t = center + radius*(rot @ unit_x) #+ torch.tensor([0., 0., 1.]).to(device)\n",
        "    new_t[2] = torch.abs(new_t[2])\n",
        "\n",
        "    up = torch.tensor([0.,0.,1.]).unsqueeze(dim=0).to(device)\n",
        "    cam_rot = look_at_rotation(at=new_t.unsqueeze(dim=0), \n",
        "                               camera_position=center.unsqueeze(dim=0),up=up) \n",
        "\n",
        "    transform = torch.zeros((4,4))\n",
        "    \n",
        "    transform[:3, :3] = cam_rot\n",
        "    transform[:3, 3] = new_t\n",
        "    transform[3, 3] = 1\n",
        "\n",
        "    return transform\n",
        "\n",
        "\n",
        "\n"
      ],
      "execution_count": 14,
      "outputs": [
        {
          "output_type": "error",
          "ename": "ModuleNotFoundError",
          "evalue": "ignored",
          "traceback": [
            "\u001b[0;31m---------------------------------------------------------------------------\u001b[0m",
            "\u001b[0;31mModuleNotFoundError\u001b[0m                       Traceback (most recent call last)",
            "\u001b[0;32m<ipython-input-14-cf29a37d079c>\u001b[0m in \u001b[0;36m<module>\u001b[0;34m()\u001b[0m\n\u001b[0;32m----> 1\u001b[0;31m \u001b[0;32mfrom\u001b[0m \u001b[0mpytorch3d\u001b[0m\u001b[0;34m.\u001b[0m\u001b[0mrenderer\u001b[0m\u001b[0;34m.\u001b[0m\u001b[0mcameras\u001b[0m \u001b[0;32mimport\u001b[0m \u001b[0mlook_at_view_transform\u001b[0m\u001b[0;34m\u001b[0m\u001b[0;34m\u001b[0m\u001b[0m\n\u001b[0m\u001b[1;32m      2\u001b[0m \u001b[0;32mfrom\u001b[0m \u001b[0mmath\u001b[0m \u001b[0;32mimport\u001b[0m \u001b[0mradians\u001b[0m\u001b[0;34m,\u001b[0m \u001b[0msqrt\u001b[0m\u001b[0;34m\u001b[0m\u001b[0;34m\u001b[0m\u001b[0m\n\u001b[1;32m      3\u001b[0m \u001b[0;34m\u001b[0m\u001b[0m\n\u001b[1;32m      4\u001b[0m \u001b[0mbatch_size\u001b[0m\u001b[0;34m=\u001b[0m\u001b[0;36m1\u001b[0m\u001b[0;34m\u001b[0m\u001b[0;34m\u001b[0m\u001b[0m\n\u001b[1;32m      5\u001b[0m \u001b[0mdataloader\u001b[0m \u001b[0;34m=\u001b[0m \u001b[0mDataLoader\u001b[0m\u001b[0;34m(\u001b[0m\u001b[0mdataset\u001b[0m\u001b[0;34m,\u001b[0m \u001b[0mbatch_size\u001b[0m\u001b[0;34m=\u001b[0m\u001b[0mbatch_size\u001b[0m\u001b[0;34m,\u001b[0m \u001b[0mshuffle\u001b[0m\u001b[0;34m=\u001b[0m\u001b[0;32mTrue\u001b[0m\u001b[0;34m,\u001b[0m \u001b[0mnum_workers\u001b[0m\u001b[0;34m=\u001b[0m\u001b[0;36m0\u001b[0m\u001b[0;34m,\u001b[0m \u001b[0mdrop_last\u001b[0m\u001b[0;34m=\u001b[0m\u001b[0;32mTrue\u001b[0m\u001b[0;34m)\u001b[0m\u001b[0;34m\u001b[0m\u001b[0;34m\u001b[0m\u001b[0m\n",
            "\u001b[0;31mModuleNotFoundError\u001b[0m: No module named 'pytorch3d'",
            "",
            "\u001b[0;31m---------------------------------------------------------------------------\u001b[0;32m\nNOTE: If your import is failing due to a missing package, you can\nmanually install dependencies using either !pip or !apt.\n\nTo view examples of installing some common dependencies, click the\n\"Open Examples\" button below.\n\u001b[0;31m---------------------------------------------------------------------------\u001b[0m\n"
          ]
        }
      ]
    },
    {
      "cell_type": "markdown",
      "metadata": {
        "id": "vzEgaaCJPv0y"
      },
      "source": [
        "## Render novel views with AutoNeRF"
      ]
    },
    {
      "cell_type": "code",
      "metadata": {
        "id": "2iEUre15PmDv"
      },
      "source": [
        "from math import sin\n",
        "N = 840\n",
        "\n",
        "rendered_images = torch.zeros((N, 3, 100, 100))\n",
        "\n",
        "alphas = torch.linspace(0, radians(360), N)\n",
        "with torch.no_grad():\n",
        "\n",
        "    for i, alpha in enumerate(alphas):\n",
        "        r = radius + .5+ sin(radians(i))\n",
        "        #print(r)\n",
        "        poses = get_new_parametric_pose(center, r, alpha).unsqueeze(dim=0)\n",
        "\n",
        "        #print(nepos.shape)\n",
        "        c_poses = poses.view(batch_size, -1)\n",
        "        c_poses_red = c_poses[:, :12].to(device)\n",
        "        c_poses_red = c_poses_red[:,:,None,None]\n",
        "\n",
        "        t0 = time.time()\n",
        "        zz = torch.randn(batch_size, latent_space).to(device)\n",
        "        zz = zz[:,:, None, None]\n",
        "    \n",
        "        z = tau.reverse(zz, c_poses_red).squeeze(-1).squeeze(-1)\n",
        "        #print(time.time()-t0, \"sec for reverse pass\")\n",
        "        images = vaenc.decode(z)\n",
        "        #print(time.time()-t0, \"sec for rendering\")\n",
        "        #show(images.cpu())\n",
        "        rendered_images[i, :,:,:] = images"
      ],
      "execution_count": null,
      "outputs": []
    }
  ]
}