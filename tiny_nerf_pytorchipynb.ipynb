{
  "nbformat": 4,
  "nbformat_minor": 0,
  "metadata": {
    "colab": {
      "name": "tiny_nerf_pytorchipynb",
      "provenance": [],
      "include_colab_link": true
    },
    "kernelspec": {
      "name": "python3",
      "display_name": "Python 3"
    },
    "accelerator": "GPU"
  },
  "cells": [
    {
      "cell_type": "markdown",
      "metadata": {
        "id": "view-in-github",
        "colab_type": "text"
      },
      "source": [
        "<a href=\"https://colab.research.google.com/github/uprestel/AutoNeRF/blob/master/tiny_nerf_pytorchipynb.ipynb\" target=\"_parent\"><img src=\"https://colab.research.google.com/assets/colab-badge.svg\" alt=\"Open In Colab\"/></a>"
      ]
    },
    {
      "cell_type": "markdown",
      "metadata": {
        "id": "XZh3aklt3ZET",
        "colab_type": "text"
      },
      "source": [
        "## Tiny NeRF (A PyTorch implementation)\n",
        "\n",
        "So, this weekend, I was catching up on this _cool paper_ titled [*NeRF: Representing scenes as neural radiance fields for view synthesis*](https://arxiv.org/abs/2003.08934)!\n",
        "\n",
        "The authors released a TensorFlow implementation [here](https://github.com/bmild/nerf). Deciding to delve deeper, I ported their code to PyTorch, cause why not!\n",
        "\n",
        "> *DISCLAIMER*: This notebook (and repository) is work-in-progress. Although I have rigorously tested most modules in here (to faithfully replicate the original implementation), my implementation at places deviates from the authors'. Comments/criticism welcome!\n",
        "\n",
        "> All functions that have a `#TESTED` under the docstring imply that they have been tested against their corresponding tensorflow impls."
      ]
    },
    {
      "cell_type": "code",
      "metadata": {
        "id": "ptTYjWao3VsM",
        "colab_type": "code",
        "colab": {}
      },
      "source": [
        "# Import all the good stuff\n",
        "from typing import Optional\n",
        "!pip install 'git+https://github.com/facebookresearch/pytorch3d.git@stable'\n",
        "import numpy as np\n",
        "import torch\n",
        "import torch.nn as nn\n",
        "import matplotlib.pyplot as plt\n",
        "import plotly.graph_objects as go\n",
        "\n",
        "import os\n",
        "\n",
        "import pytorch3d\n",
        "from pytorch3d.transforms import random_rotation\n",
        "from pytorch3d.renderer.cameras import look_at_rotation\n",
        "\n",
        "\n",
        "from google.colab import drive\n",
        "drive.mount('/gdrive', force_remount=True)\n"
      ],
      "execution_count": 2,
      "outputs": []
    },
    {
      "cell_type": "markdown",
      "metadata": {
        "id": "toIYVxPL5IDO",
        "colab_type": "text"
      },
      "source": [
        "## A few utility functions"
      ]
    },
    {
      "cell_type": "markdown",
      "metadata": {
        "id": "mbFYbEbV7ZFD",
        "colab_type": "text"
      },
      "source": [
        "#### Bridging PyTorch and TensorFlow functionality\n",
        "\n",
        "There's plenty of differences in function signatures (and in functionality) b/w PyTorch and TensorFlow. Here's a few modules that help bridge the gap (for this particular impl)."
      ]
    },
    {
      "cell_type": "code",
      "metadata": {
        "id": "Qbdf8GDL4_0Z",
        "colab_type": "code",
        "colab": {}
      },
      "source": [
        "def meshgrid_xy(tensor1: torch.Tensor, tensor2: torch.Tensor) -> (torch.Tensor, torch.Tensor):\n",
        "    \"\"\"Mimick np.meshgrid(..., indexing=\"xy\") in pytorch. torch.meshgrid only allows \"ij\" indexing.\n",
        "    (If you're unsure what this means, safely skip trying to understand this, and run a tiny example!)\n",
        "\n",
        "    Args:\n",
        "      tensor1 (torch.Tensor): Tensor whose elements define the first dimension of the returned meshgrid.\n",
        "      tensor2 (torch.Tensor): Tensor whose elements define the second dimension of the returned meshgrid.\n",
        "    \"\"\"\n",
        "    # TESTED\n",
        "    ii, jj = torch.meshgrid(tensor1, tensor2)\n",
        "    return ii.transpose(-1, -2), jj.transpose(-1, -2)\n",
        "\n",
        "\n",
        "def cumprod_exclusive(tensor: torch.Tensor) -> torch.Tensor:\n",
        "  r\"\"\"Mimick functionality of tf.math.cumprod(..., exclusive=True), as it isn't available in PyTorch.\n",
        "\n",
        "  Args:\n",
        "    tensor (torch.Tensor): Tensor whose cumprod (cumulative product, see `torch.cumprod`) along dim=-1\n",
        "      is to be computed.\n",
        "  \n",
        "  Returns:\n",
        "    cumprod (torch.Tensor): cumprod of Tensor along dim=-1, mimiciking the functionality of\n",
        "      tf.math.cumprod(..., exclusive=True) (see `tf.math.cumprod` for details).\n",
        "  \"\"\"\n",
        "  # TESTED\n",
        "  # Only works for the last dimension (dim=-1)\n",
        "  dim = -1\n",
        "  # Compute regular cumprod first (this is equivalent to `tf.math.cumprod(..., exclusive=False)`).\n",
        "  cumprod = torch.cumprod(tensor, dim)\n",
        "  # \"Roll\" the elements along dimension 'dim' by 1 element.\n",
        "  cumprod = torch.roll(cumprod, 1, dim)\n",
        "  # Replace the first element by \"1\" as this is what tf.cumprod(..., exclusive=True) does.\n",
        "  cumprod[..., 0] = 1.\n",
        "  \n",
        "  return cumprod"
      ],
      "execution_count": 3,
      "outputs": []
    },
    {
      "cell_type": "markdown",
      "metadata": {
        "id": "ZcCuOfj-7OPN",
        "colab_type": "text"
      },
      "source": [
        "#### Compute the \"bundle\" of rays through all pixels of an image."
      ]
    },
    {
      "cell_type": "code",
      "metadata": {
        "id": "EHNwlsOT7NTp",
        "colab_type": "code",
        "colab": {}
      },
      "source": [
        "def get_ray_bundle(height: int, width: int, focal_length: float, tform_cam2world: torch.Tensor):\n",
        "  r\"\"\"Compute the bundle of rays passing through all pixels of an image (one ray per pixel).\n",
        "\n",
        "  Args:\n",
        "    height (int): Height of an image (number of pixels).\n",
        "    width (int): Width of an image (number of pixels).\n",
        "    focal_length (float or torch.Tensor): Focal length (number of pixels, i.e., calibrated intrinsics).\n",
        "    tform_cam2world (torch.Tensor): A 6-DoF rigid-body transform (shape: :math:`(4, 4)`) that\n",
        "      transforms a 3D point from the camera frame to the \"world\" frame for the current example.\n",
        "  \n",
        "  Returns:\n",
        "    ray_origins (torch.Tensor): A tensor of shape :math:`(width, height, 3)` denoting the centers of\n",
        "      each ray. `ray_origins[i][j]` denotes the origin of the ray passing through pixel at\n",
        "      row index `j` and column index `i`.\n",
        "      (TODO: double check if explanation of row and col indices convention is right).\n",
        "    ray_directions (torch.Tensor): A tensor of shape :math:`(width, height, 3)` denoting the\n",
        "      direction of each ray (a unit vector). `ray_directions[i][j]` denotes the direction of the ray\n",
        "      passing through the pixel at row index `j` and column index `i`.\n",
        "      (TODO: double check if explanation of row and col indices convention is right).\n",
        "  \"\"\"\n",
        "  # TESTED\n",
        "  ii, jj = meshgrid_xy(\n",
        "      torch.arange(width).to(tform_cam2world),\n",
        "      torch.arange(height).to(tform_cam2world)\n",
        "  )\n",
        "  directions = torch.stack([(ii - width * .5) / focal_length,\n",
        "                            -(jj - height * .5) / focal_length,\n",
        "                            -torch.ones_like(ii)\n",
        "                           ], dim=-1)\n",
        "  ray_directions = torch.sum(directions[..., None, :] * tform_cam2world[:3, :3], dim=-1)\n",
        "  ray_origins = tform_cam2world[:3, -1].expand(ray_directions.shape)\n",
        "  return ray_origins, ray_directions"
      ],
      "execution_count": 4,
      "outputs": []
    },
    {
      "cell_type": "markdown",
      "metadata": {
        "id": "o1bcBtvR-s0_",
        "colab_type": "text"
      },
      "source": [
        "#### Compute \"query\" 3D points given the \"bundle\" of rays.\n",
        "\n",
        "We assume that a _near_ and a _far_ clipping distance are provided that delineate the volume of interest. Each ray is evaluated only within these bounds. We randomly sample points along each ray, while trying to ensure most parts of the ray's trajectory are spanned."
      ]
    },
    {
      "cell_type": "code",
      "metadata": {
        "id": "wAAfDK2L-faR",
        "colab_type": "code",
        "colab": {}
      },
      "source": [
        "def compute_query_points_from_rays(\n",
        "    ray_origins: torch.Tensor,\n",
        "    ray_directions: torch.Tensor,\n",
        "    near_thresh: float,\n",
        "    far_thresh: float,\n",
        "    num_samples: int,\n",
        "    randomize: Optional[bool] = True\n",
        ") -> (torch.Tensor, torch.Tensor):\n",
        "  r\"\"\"Compute query 3D points given the \"bundle\" of rays. The near_thresh and far_thresh\n",
        "  variables indicate the bounds within which 3D points are to be sampled.\n",
        "\n",
        "  Args:\n",
        "    ray_origins (torch.Tensor): Origin of each ray in the \"bundle\" as returned by the\n",
        "      `get_ray_bundle()` method (shape: :math:`(width, height, 3)`).\n",
        "    ray_directions (torch.Tensor): Direction of each ray in the \"bundle\" as returned by the\n",
        "      `get_ray_bundle()` method (shape: :math:`(width, height, 3)`).\n",
        "    near_thresh (float): The 'near' extent of the bounding volume (i.e., the nearest depth\n",
        "      coordinate that is of interest/relevance).\n",
        "    far_thresh (float): The 'far' extent of the bounding volume (i.e., the farthest depth\n",
        "      coordinate that is of interest/relevance).\n",
        "    num_samples (int): Number of samples to be drawn along each ray. Samples are drawn\n",
        "      randomly, whilst trying to ensure \"some form of\" uniform spacing among them.\n",
        "    randomize (optional, bool): Whether or not to randomize the sampling of query points.\n",
        "      By default, this is set to `True`. If disabled (by setting to `False`), we sample\n",
        "      uniformly spaced points along each ray in the \"bundle\".\n",
        "  \n",
        "  Returns:\n",
        "    query_points (torch.Tensor): Query points along each ray\n",
        "      (shape: :math:`(width, height, num_samples, 3)`).\n",
        "    depth_values (torch.Tensor): Sampled depth values along each ray\n",
        "      (shape: :math:`(num_samples)`).\n",
        "  \"\"\"\n",
        "  # TESTED\n",
        "  # shape: (num_samples)\n",
        "  depth_values = torch.linspace(near_thresh, far_thresh, num_samples).to(ray_origins)\n",
        "  if randomize is True:\n",
        "    # ray_origins: (width, height, 3)\n",
        "    # noise_shape = (width, height, num_samples)\n",
        "    noise_shape = list(ray_origins.shape[:-1]) + [num_samples]\n",
        "    # depth_values: (num_samples)\n",
        "    depth_values = depth_values \\\n",
        "        + torch.rand(noise_shape).to(ray_origins) * (far_thresh\n",
        "            - near_thresh) / num_samples\n",
        "  # (width, height, num_samples, 3) = (width, height, 1, 3) + (width, height, 1, 3) * (num_samples, 1)\n",
        "  # query_points:  (width, height, num_samples, 3)\n",
        "  query_points = ray_origins[..., None, :] + ray_directions[..., None, :] * depth_values[..., :, None]\n",
        "  # TODO: Double-check that `depth_values` returned is of shape `(num_samples)`.\n",
        "  return query_points, depth_values"
      ],
      "execution_count": 5,
      "outputs": []
    },
    {
      "cell_type": "markdown",
      "metadata": {
        "id": "KqcXnLXpDgsR",
        "colab_type": "text"
      },
      "source": [
        "#### Volumetric rendering\n",
        "\n",
        "> **NOTE**: This volumetric rendering module (like the authors' tiny_nerf [Colab notebook](https://colab.research.google.com/github/bmild/nerf/blob/master/tiny_nerf.ipynb) does not implement 5D input (which includes view directions, in addition to X, Y, Z coordinates). It also does not implement the hierarchical sampling procedure. For those implementations, refer to the other complete examples in the repo."
      ]
    },
    {
      "cell_type": "code",
      "metadata": {
        "id": "UuZn7lMFDZXy",
        "colab_type": "code",
        "colab": {}
      },
      "source": [
        "def render_volume_density(\n",
        "    radiance_field: torch.Tensor,\n",
        "    ray_origins: torch.Tensor,\n",
        "    depth_values: torch.Tensor\n",
        ") -> (torch.Tensor, torch.Tensor, torch.Tensor):\n",
        "  r\"\"\"Differentiably renders a radiance field, given the origin of each ray in the\n",
        "  \"bundle\", and the sampled depth values along them.\n",
        "\n",
        "  Args:\n",
        "    radiance_field (torch.Tensor): A \"field\" where, at each query location (X, Y, Z),\n",
        "      we have an emitted (RGB) color and a volume density (denoted :math:`\\sigma` in\n",
        "      the paper) (shape: :math:`(width, height, num_samples, 4)`).\n",
        "    ray_origins (torch.Tensor): Origin of each ray in the \"bundle\" as returned by the\n",
        "      `get_ray_bundle()` method (shape: :math:`(width, height, 3)`).\n",
        "    depth_values (torch.Tensor): Sampled depth values along each ray\n",
        "      (shape: :math:`(num_samples)`).\n",
        "  \n",
        "  Returns:\n",
        "    rgb_map (torch.Tensor): Rendered RGB image (shape: :math:`(width, height, 3)`).\n",
        "    depth_map (torch.Tensor): Rendered depth image (shape: :math:`(width, height)`).\n",
        "    acc_map (torch.Tensor): # TODO: Double-check (I think this is the accumulated\n",
        "      transmittance map).\n",
        "  \"\"\"\n",
        "  # TESTED\n",
        "  sigma_a = torch.nn.functional.relu(radiance_field[..., 3])\n",
        "  rgb = torch.sigmoid(radiance_field[..., :3])\n",
        "  one_e_10 = torch.tensor([1e10], dtype=ray_origins.dtype, device=ray_origins.device)\n",
        "  dists = torch.cat((depth_values[..., 1:] - depth_values[..., :-1],\n",
        "                  one_e_10.expand(depth_values[..., :1].shape)), dim=-1)\n",
        "  alpha = 1. - torch.exp(-sigma_a * dists)\n",
        "  weights = alpha * cumprod_exclusive(1. - alpha + 1e-10)\n",
        "\n",
        "  rgb_map = (weights[..., None] * rgb).sum(dim=-2)\n",
        "  depth_map = (weights * depth_values).sum(dim=-1)\n",
        "  acc_map = weights.sum(-1)\n",
        "\n",
        "  return rgb_map, depth_map, acc_map"
      ],
      "execution_count": 6,
      "outputs": []
    },
    {
      "cell_type": "markdown",
      "metadata": {
        "id": "i94CgahGHBEV",
        "colab_type": "text"
      },
      "source": [
        "#### Positional encoding\n",
        "\n",
        "Another interesting tweak used in NeRF is \"positional encoding\", which postulates the use of a mapping to higher dimensional space (using a basis set of high-frequency functions). This greatly enhances the model's capability to capture high-frequency variations."
      ]
    },
    {
      "cell_type": "code",
      "metadata": {
        "id": "rrbs7YoMHAbF",
        "colab_type": "code",
        "colab": {}
      },
      "source": [
        "def positional_encoding(\n",
        "    tensor, num_encoding_functions=6, include_input=True, log_sampling=True\n",
        ") -> torch.Tensor:\n",
        "  r\"\"\"Apply positional encoding to the input.\n",
        "\n",
        "  Args:\n",
        "    tensor (torch.Tensor): Input tensor to be positionally encoded.\n",
        "    num_encoding_functions (optional, int): Number of encoding functions used to\n",
        "        compute a positional encoding (default: 6).\n",
        "    include_input (optional, bool): Whether or not to include the input in the\n",
        "        computed positional encoding (default: True).\n",
        "    log_sampling (optional, bool): Sample logarithmically in frequency space, as\n",
        "        opposed to linearly (default: True).\n",
        "  \n",
        "  Returns:\n",
        "    (torch.Tensor): Positional encoding of the input tensor.\n",
        "  \"\"\"\n",
        "  # TESTED\n",
        "  # Trivially, the input tensor is added to the positional encoding.\n",
        "  encoding = [tensor] if include_input else []\n",
        "  # Now, encode the input using a set of high-frequency functions and append the\n",
        "  # resulting values to the encoding.\n",
        "  frequency_bands = None\n",
        "  if log_sampling:\n",
        "      frequency_bands = 2.0 ** torch.linspace(\n",
        "            0.0,\n",
        "            num_encoding_functions - 1,\n",
        "            num_encoding_functions,\n",
        "            dtype=tensor.dtype,\n",
        "            device=tensor.device,\n",
        "        )\n",
        "  else:\n",
        "      frequency_bands = torch.linspace(\n",
        "          2.0 ** 0.0,\n",
        "          2.0 ** (num_encoding_functions - 1),\n",
        "          num_encoding_functions,\n",
        "          dtype=tensor.dtype,\n",
        "          device=tensor.device,\n",
        "      )\n",
        "\n",
        "  for freq in frequency_bands:\n",
        "      for func in [torch.sin, torch.cos]:\n",
        "          encoding.append(func(tensor * freq))\n",
        "\n",
        "  # Special case, for no positional encoding\n",
        "  if len(encoding) == 1:\n",
        "      return encoding[0]\n",
        "  else:\n",
        "      return torch.cat(encoding, dim=-1)"
      ],
      "execution_count": 7,
      "outputs": []
    },
    {
      "cell_type": "markdown",
      "metadata": {
        "id": "tgoNR03iIs7R",
        "colab_type": "text"
      },
      "source": [
        "## TinyNeRF: Network architecture"
      ]
    },
    {
      "cell_type": "code",
      "metadata": {
        "id": "UjFN6FNzIqxl",
        "colab_type": "code",
        "colab": {}
      },
      "source": [
        "class VeryTinyNerfModel(torch.nn.Module):\n",
        "  r\"\"\"Define a \"very tiny\" NeRF model comprising three fully connected layers.\n",
        "  \"\"\"\n",
        "  def __init__(self, filter_size=128, num_encoding_functions=6):\n",
        "    super(VeryTinyNerfModel, self).__init__()\n",
        "    # Input layer (default: 39 -> 128)\n",
        "    self.layer1 = torch.nn.Linear(3 + 3 * 2 * num_encoding_functions, filter_size)\n",
        "    # Layer 2 (default: 128 -> 128)\n",
        "    self.layer2 = torch.nn.Linear(filter_size, filter_size)\n",
        "    # Layer 3 (default: 128 -> 4)\n",
        "    self.layer3 = torch.nn.Linear(filter_size, 4)\n",
        "    # Short hand for torch.nn.functional.relu\n",
        "    self.relu = torch.nn.functional.relu\n",
        "  \n",
        "  def forward(self, x):\n",
        "    x = self.relu(self.layer1(x))\n",
        "    x = self.relu(self.layer2(x))\n",
        "    x = self.layer3(x)\n",
        "    return x"
      ],
      "execution_count": 8,
      "outputs": []
    },
    {
      "cell_type": "markdown",
      "metadata": {
        "id": "94jKMMz7gb7Y",
        "colab_type": "text"
      },
      "source": [
        "## NeRF: Network architecture"
      ]
    },
    {
      "cell_type": "markdown",
      "metadata": {
        "id": "pUnoBIhyKgx6",
        "colab_type": "text"
      },
      "source": [
        "## Dataloading utils"
      ]
    },
    {
      "cell_type": "code",
      "metadata": {
        "id": "v9SbAqC6Ki9H",
        "colab_type": "code",
        "colab": {}
      },
      "source": [
        "def get_minibatches(inputs: torch.Tensor, chunksize: Optional[int] = 1024 * 8):\n",
        "  r\"\"\"Takes a huge tensor (ray \"bundle\") and splits it into a list of minibatches.\n",
        "  Each element of the list (except possibly the last) has dimension `0` of length\n",
        "  `chunksize`.\n",
        "  \"\"\"\n",
        "  return [inputs[i:i + chunksize] for i in range(0, inputs.shape[0], chunksize)]"
      ],
      "execution_count": 11,
      "outputs": []
    },
    {
      "cell_type": "markdown",
      "metadata": {
        "id": "WO3afCcLKg0D",
        "colab_type": "text"
      },
      "source": [
        "## Get data"
      ]
    },
    {
      "cell_type": "code",
      "metadata": {
        "id": "us0x_gGPI4tq",
        "colab_type": "code",
        "colab": {
          "base_uri": "https://localhost:8080/",
          "height": 214
        },
        "outputId": "749289e5-8210-4bb0-aa9c-d64eb4146bcb"
      },
      "source": [
        "# Download sample data used in the official tiny_nerf example\n",
        "\n",
        "if not os.path.exists('tiny_nerf_data.npz'):\n",
        "    !wget https://people.eecs.berkeley.edu/~bmild/nerf/tiny_nerf_data.npz"
      ],
      "execution_count": 12,
      "outputs": [
        {
          "output_type": "stream",
          "text": [
            "--2020-09-01 10:35:29--  https://people.eecs.berkeley.edu/~bmild/nerf/tiny_nerf_data.npz\n",
            "Resolving people.eecs.berkeley.edu (people.eecs.berkeley.edu)... 128.32.189.73\n",
            "Connecting to people.eecs.berkeley.edu (people.eecs.berkeley.edu)|128.32.189.73|:443... connected.\n",
            "HTTP request sent, awaiting response... 200 OK\n",
            "Length: 12727482 (12M)\n",
            "Saving to: ‘tiny_nerf_data.npz’\n",
            "\n",
            "tiny_nerf_data.npz  100%[===================>]  12.14M  52.0MB/s    in 0.2s    \n",
            "\n",
            "2020-09-01 10:35:29 (52.0 MB/s) - ‘tiny_nerf_data.npz’ saved [12727482/12727482]\n",
            "\n"
          ],
          "name": "stdout"
        }
      ]
    },
    {
      "cell_type": "markdown",
      "metadata": {
        "id": "Ierxw2dsL3pU",
        "colab_type": "text"
      },
      "source": [
        "## Determine device to run on (GPU vs CPU)"
      ]
    },
    {
      "cell_type": "code",
      "metadata": {
        "id": "uKNiPtnML8i9",
        "colab_type": "code",
        "colab": {}
      },
      "source": [
        "device = torch.device(\"cuda\" if torch.cuda.is_available() else \"cpu\")"
      ],
      "execution_count": 13,
      "outputs": []
    },
    {
      "cell_type": "markdown",
      "metadata": {
        "id": "zB3NGalaLlN1",
        "colab_type": "text"
      },
      "source": [
        "## Load up input images, poses, intrinsics, etc."
      ]
    },
    {
      "cell_type": "code",
      "metadata": {
        "id": "1w2QkjCkLc9Z",
        "colab_type": "code",
        "colab": {
          "base_uri": "https://localhost:8080/",
          "height": 144
        },
        "outputId": "3dd16b89-bc9c-4198-ced4-3d0ab44c2dbd"
      },
      "source": [
        "# Load input images, poses, and intrinsics\n",
        "data = np.load(\"tiny_nerf_data.npz\")\n",
        "#data = np.load(\"/gdrive/My Drive/autonerf.npz\")\n",
        "# Images\n",
        "\n",
        "images = data[\"images\"]\n",
        "# Camera extrinsics (poses)\n",
        "tform_cam2world = data[\"poses\"]\n",
        "tform_cam2world = torch.from_numpy(tform_cam2world).to(device)\n",
        "# Focal length (intrinsics)\n",
        "focal_length = data[\"focal\"]\n",
        "focal_length = torch.from_numpy(focal_length).to(device)\n",
        "print(tform_cam2world.shape)\n",
        "# Height and width of each image\n",
        "height, width = images.shape[1:3]\n",
        "\n",
        "# Near and far clipping thresholds for depth values.\n",
        "near_thresh = 2.\n",
        "far_thresh = 6.\n",
        "\n",
        "# Hold one image out (for test).\n",
        "#testimg, testpose = images[102], tform_cam2world[102]\n",
        "#testimg = torch.from_numpy(testimg).to(device)\n",
        "\n",
        "# Map images to device\n",
        "images = torch.from_numpy(images).to(device)\n",
        "\n",
        "#testimg0 = images[1]\n",
        "testimg = images[101, ..., :3]\n",
        "#print(testimg0.shape, testimg.shape)\n",
        "testpose = tform_cam2world[101]\n",
        "\n",
        "images = images[:100, ..., :3]\n"
      ],
      "execution_count": 14,
      "outputs": [
        {
          "output_type": "stream",
          "text": [
            "Go to this URL in a browser: https://accounts.google.com/o/oauth2/auth?client_id=947318989803-6bn6qk8qdgf4n4g3pfee6491hc0brc4i.apps.googleusercontent.com&redirect_uri=urn%3aietf%3awg%3aoauth%3a2.0%3aoob&scope=email%20https%3a%2f%2fwww.googleapis.com%2fauth%2fdocs.test%20https%3a%2f%2fwww.googleapis.com%2fauth%2fdrive%20https%3a%2f%2fwww.googleapis.com%2fauth%2fdrive.photos.readonly%20https%3a%2f%2fwww.googleapis.com%2fauth%2fpeopleapi.readonly&response_type=code\n",
            "\n",
            "Enter your authorization code:\n",
            "··········\n",
            "Mounted at /gdrive\n",
            "torch.Size([106, 4, 4])\n"
          ],
          "name": "stdout"
        }
      ]
    },
    {
      "cell_type": "code",
      "metadata": {
        "id": "YtZPGZclq1Sj",
        "colab_type": "code",
        "colab": {}
      },
      "source": [
        ""
      ],
      "execution_count": null,
      "outputs": []
    },
    {
      "cell_type": "markdown",
      "metadata": {
        "id": "mVsKUODnM9KK",
        "colab_type": "text"
      },
      "source": [
        "#### Display the image used for testing"
      ]
    },
    {
      "cell_type": "code",
      "metadata": {
        "id": "_04FamFHM7l8",
        "colab_type": "code",
        "colab": {
          "base_uri": "https://localhost:8080/",
          "height": 286
        },
        "outputId": "76ad6cd3-c13f-4553-f7ac-df18bbe51826"
      },
      "source": [
        "plt.imshow(testimg.detach().cpu().numpy())\n",
        "plt.show()\n",
        "\n",
        "print(tform_cam2world.shape)"
      ],
      "execution_count": null,
      "outputs": [
        {
          "output_type": "display_data",
          "data": {
            "image/png": "[encoded data removed]",
            "text/plain": [
              "<Figure size 432x288 with 1 Axes>"
            ]
          },
          "metadata": {
            "tags": [],
            "needs_background": "light"
          }
        },
        {
          "output_type": "stream",
          "text": [
            "torch.Size([106, 4, 4])\n"
          ],
          "name": "stdout"
        }
      ]
    },
    {
      "cell_type": "code",
      "metadata": {
        "id": "KLSECIA15XHq",
        "colab_type": "code",
        "colab": {}
      },
      "source": [
        "for i in range(0, 100):\n",
        "    plt.imshow(images[i].detach().cpu().numpy())\n",
        "    plt.show()"
      ],
      "execution_count": null,
      "outputs": []
    },
    {
      "cell_type": "markdown",
      "metadata": {
        "id": "XFUaajNpNNgJ",
        "colab_type": "text"
      },
      "source": [
        "## Train TinyNeRF!\n",
        "\n",
        "(The cool part!)"
      ]
    },
    {
      "cell_type": "code",
      "metadata": {
        "id": "nY2Dt8lgWhKO",
        "colab_type": "code",
        "colab": {}
      },
      "source": [
        "# One iteration of TinyNeRF (forward pass).\n",
        "def run_one_iter_of_tinynerf(height, width, focal_length, tform_cam2world,\n",
        "                             near_thresh, far_thresh, depth_samples_per_ray,\n",
        "                             encoding_function, get_minibatches_function):\n",
        "  \n",
        "  # Get the \"bundle\" of rays through all image pixels.\n",
        "  ray_origins, ray_directions = get_ray_bundle(height, width, focal_length,\n",
        "                                               tform_cam2world)\n",
        "  \n",
        "  # Sample query points along each ray\n",
        "  query_points, depth_values = compute_query_points_from_rays(\n",
        "      ray_origins, ray_directions, near_thresh, far_thresh, depth_samples_per_ray\n",
        "  )\n",
        "\n",
        "  # \"Flatten\" the query points.\n",
        "  flattened_query_points = query_points.reshape((-1, 3))\n",
        "\n",
        "  # Encode the query points (default: positional encoding).\n",
        "  encoded_points = encoding_function(flattened_query_points)\n",
        "\n",
        "  # Split the encoded points into \"chunks\", run the model on all chunks, and\n",
        "  # concatenate the results (to avoid out-of-memory issues).\n",
        "  batches = get_minibatches_function(encoded_points, chunksize=chunksize)\n",
        "  predictions = []\n",
        "  for batch in batches:\n",
        "    predictions.append(model(batch))\n",
        "  radiance_field_flattened = torch.cat(predictions, dim=0)\n",
        "\n",
        "  # \"Unflatten\" to obtain the radiance field.\n",
        "  unflattened_shape = list(query_points.shape[:-1]) + [4]\n",
        "  radiance_field = torch.reshape(radiance_field_flattened, unflattened_shape)\n",
        "\n",
        "  # Perform differentiable volume rendering to re-synthesize the RGB image.\n",
        "  rgb_predicted, _, _ = render_volume_density(radiance_field, ray_origins, depth_values)\n",
        "\n",
        "  return rgb_predicted"
      ],
      "execution_count": 15,
      "outputs": []
    },
    {
      "cell_type": "code",
      "metadata": {
        "id": "79xNp4Z2reLn",
        "colab_type": "code",
        "colab": {
          "base_uri": "https://localhost:8080/",
          "height": 35
        },
        "outputId": "085a32bf-217d-4cad-cbfa-6c9e3d6a3b36"
      },
      "source": [
        "print(focal_length)"
      ],
      "execution_count": null,
      "outputs": [
        {
          "output_type": "stream",
          "text": [
            "tensor(138.8889, device='cuda:0', dtype=torch.float64)\n"
          ],
          "name": "stdout"
        }
      ]
    },
    {
      "cell_type": "code",
      "metadata": {
        "id": "JovhcSy1NIhr",
        "colab_type": "code",
        "colab": {}
      },
      "source": [
        "\"\"\"\n",
        "Parameters for TinyNeRF training\n",
        "\"\"\"\n",
        "\n",
        "# Number of functions used in the positional encoding (Be sure to update the \n",
        "# model if this number changes).\n",
        "num_encoding_functions = 6\n",
        "# Specify encoding function.\n",
        "encode = lambda x: positional_encoding(x, num_encoding_functions=num_encoding_functions)\n",
        "# Number of depth samples along each ray.\n",
        "depth_samples_per_ray = 32\n",
        "\n",
        "# Chunksize (Note: this isn't batchsize in the conventional sense. This only\n",
        "# specifies the number of rays to be queried in one go. Backprop still happens\n",
        "# only after all rays from the current \"bundle\" are queried and rendered).\n",
        "chunksize = 16384  # Use chunksize of about 4096 to fit in ~1.4 GB of GPU memory.\n",
        "\n",
        "# Optimizer parameters\n",
        "lr = 5e-3\n",
        "num_iters = 10000\n",
        "\n",
        "# Misc parameters\n",
        "display_every = 100  # Number of iters after which stats are displayed\n",
        "\n",
        "\"\"\"\n",
        "Model\n",
        "\"\"\"\n",
        "model = VeryTinyNerfModel(num_encoding_functions=num_encoding_functions)\n",
        "model.to(device)\n",
        "\n",
        "\"\"\"\n",
        "Optimizer\n",
        "\"\"\"\n",
        "optimizer = torch.optim.Adam(model.parameters(), lr=lr)\n",
        "\n",
        "\"\"\"\n",
        "Train-Eval-Repeat!\n",
        "\"\"\"\n",
        "\n",
        "# Seed RNG, for repeatability\n",
        "seed = 9458\n",
        "torch.manual_seed(seed)\n",
        "np.random.seed(seed)\n",
        "\n",
        "# Lists to log metrics etc.\n",
        "psnrs = []\n",
        "iternums = []\n",
        "focal_length = 5*50\n",
        "\n",
        "for i in range(num_iters):\n",
        "\n",
        "  # Randomly pick an image as the target.\n",
        "  target_img_idx = np.random.randint(images.shape[0])\n",
        "  target_img = images[target_img_idx].to(device)\n",
        "  target_tform_cam2world = tform_cam2world[target_img_idx].to(device)\n",
        "\n",
        "  # Run one iteration of TinyNeRF and get the rendered RGB image.\n",
        "  rgb_predicted = run_one_iter_of_tinynerf(height, width, focal_length,\n",
        "                                           target_tform_cam2world, near_thresh,\n",
        "                                           far_thresh, depth_samples_per_ray,\n",
        "                                           encode, get_minibatches)\n",
        "\n",
        "  # Compute mean-squared error between the predicted and target images. Backprop!\n",
        "  loss = torch.nn.functional.mse_loss(rgb_predicted, target_img)\n",
        "  loss.backward()\n",
        "  optimizer.step()\n",
        "  optimizer.zero_grad()\n",
        "\n",
        "  # Display images/plots/stats\n",
        "  if i % display_every == 0:\n",
        "    # Render the held-out view\n",
        "    rgb_predicted = run_one_iter_of_tinynerf(height, width, focal_length,\n",
        "                                             testpose, near_thresh,\n",
        "                                             far_thresh, depth_samples_per_ray,\n",
        "                                             encode, get_minibatches)\n",
        "    loss = torch.nn.functional.mse_loss(rgb_predicted, target_img)\n",
        "    print(\"Loss:\", loss.item())\n",
        "    psnr = -10. * torch.log10(loss)\n",
        "    \n",
        "    psnrs.append(psnr.item())\n",
        "    iternums.append(i)\n",
        "\n",
        "    plt.figure(figsize=(10, 4))\n",
        "    plt.subplot(121)\n",
        "    plt.imshow(rgb_predicted.detach().cpu().numpy())\n",
        "    plt.title(f\"Iteration {i}\")\n",
        "    plt.subplot(122)\n",
        "    plt.plot(iternums, psnrs)\n",
        "    plt.title(\"PSNR\")\n",
        "    plt.show()\n",
        "\n",
        "print('Done!')"
      ],
      "execution_count": null,
      "outputs": []
    },
    {
      "cell_type": "code",
      "metadata": {
        "id": "wtXqR_0nOyGV",
        "colab_type": "code",
        "colab": {
          "base_uri": "https://localhost:8080/",
          "height": 106
        },
        "outputId": "50b73730-4922-4cd4-e447-a7b0942dd0f9"
      },
      "source": [
        "model = VeryTinyNerfModel().to(device)\n",
        "model.load_state_dict(torch.load(\"/gdrive/My Drive/nerf_model.pt\"))\n",
        "model.eval()"
      ],
      "execution_count": 17,
      "outputs": [
        {
          "output_type": "execute_result",
          "data": {
            "text/plain": [
              "VeryTinyNerfModel(\n",
              "  (layer1): Linear(in_features=39, out_features=128, bias=True)\n",
              "  (layer2): Linear(in_features=128, out_features=128, bias=True)\n",
              "  (layer3): Linear(in_features=128, out_features=4, bias=True)\n",
              ")"
            ]
          },
          "metadata": {
            "tags": []
          },
          "execution_count": 17
        }
      ]
    },
    {
      "cell_type": "code",
      "metadata": {
        "id": "b7rbKhL7aMO-",
        "colab_type": "code",
        "colab": {}
      },
      "source": [
        "\n",
        "\n",
        "\n",
        "class Flatten(nn.Module):\n",
        "    \"\"\"\n",
        "        Simple tensor flattening module\n",
        "    \"\"\"\n",
        "\n",
        "    def forward(self, input):\n",
        "        return input.view(input.size(0), -1)\n",
        "\n",
        "\n",
        "class UnFlatten(nn.Module):\n",
        "    \"\"\"\n",
        "        Simple tensor unflattening module\n",
        "    \"\"\"\n",
        "\n",
        "    def forward(self, input, size=576):\n",
        "        return input.view(input.size(0), size, 1, 1)\n",
        "\n",
        "\n",
        "class NeRFDecoder(nn.Module):\n",
        "\n",
        "    def __init__(self, nz=100, ngf=100):\n",
        "        super(NeRFDecoder, self).__init__()\n",
        "        self.nc = 3\n",
        "\n",
        "        self.main = nn.Sequential(\n",
        "            nn.Linear(nz, 576),\n",
        "            UnFlatten(),\n",
        "            # input is Z, going into a convolution\n",
        "            nn.ConvTranspose2d(576, ngf * 8, 4, 1, 0, bias=False),\n",
        "            nn.BatchNorm2d(ngf * 8),\n",
        "            nn.LeakyReLU(True),\n",
        "            #   (ngf*8) x 4 x 4\n",
        "            nn.ConvTranspose2d(ngf * 8, ngf * 4, 4, 2, 1, bias=False),\n",
        "            nn.BatchNorm2d(ngf * 4),\n",
        "            nn.LeakyReLU(True),\n",
        "            #   (ngf*4) x 8 x 8\n",
        "            nn.ConvTranspose2d(ngf * 4, ngf * 2, 4, 2, 1, bias=False),\n",
        "            nn.BatchNorm2d(ngf * 2),\n",
        "            nn.LeakyReLU(True),\n",
        "            #   (ngf*2) x 16 x 16\n",
        "            nn.ConvTranspose2d(ngf * 2, ngf, 4, 2, 1, bias=False),\n",
        "            nn.BatchNorm2d(ngf),\n",
        "            nn.LeakyReLU(True),\n",
        "            #   (ngf) x 32 x 32\n",
        "            nn.ConvTranspose2d(ngf, self.nc, 4, 2, 1, bias=False),\n",
        "            nn.LeakyReLU(True)\n",
        "            #   (nc) x 64 x 64\n",
        "        )\n",
        "\n",
        "    def forward(self, x):\n",
        "        for layer in self.main:\n",
        "            #print(x.shape)\n",
        "            x = layer(x)\n",
        "        return x\n",
        "\n",
        "\n",
        "class NeRFEncoder(nn.Module):\n",
        "    \"\"\"\n",
        "        Encoder architecture for the density of the smoke.\n",
        "    \"\"\"\n",
        "\n",
        "    def __init__(self, nz=100, ndf=100):\n",
        "        super(NeRFEncoder, self).__init__()\n",
        "        self.nc = 3\n",
        "        self.main = nn.Sequential(\n",
        "            # input is (nc) x 64 x 64\n",
        "            nn.Conv2d(self.nc, ndf, 4, 2, 1, bias=False),\n",
        "            nn.LeakyReLU(0.2, inplace=True),\n",
        "            # state size. (ndf) x 32 x 32\n",
        "            nn.Conv2d(ndf, ndf * 2, 4, 2, 1, bias=False),\n",
        "            nn.BatchNorm2d(ndf * 2),\n",
        "            nn.LeakyReLU(0.2, inplace=True),\n",
        "            # state size. (ndf*2) x 16 x 16\n",
        "            nn.Conv2d(ndf * 2, ndf * 4, 4, 2, 1, bias=False),\n",
        "            nn.BatchNorm2d(ndf * 4),\n",
        "            nn.LeakyReLU(0.2, inplace=True),\n",
        "            # state size. (ndf*4) x 8 x 8\n",
        "            nn.Conv2d(ndf * 4, ndf * 8, 4, 2, 1, bias=False),\n",
        "            nn.BatchNorm2d(ndf * 8),\n",
        "            nn.LeakyReLU(0.2, inplace=True),\n",
        "            # state size. (ndf*8) x 4 x 4\n",
        "            nn.Conv2d(ndf * 8, 64, 4, 1, 0, bias=False),\n",
        "            # finally we reduce to our desired latent space size\n",
        "            Flatten(),\n",
        "            nn.Linear(576, nz)\n",
        "        )\n",
        "\n",
        "    def forward(self, x):\n",
        "        for layer in self.main:\n",
        "            #print(x.shape)\n",
        "            x = layer(x)\n",
        "        return x\n",
        "\n",
        "\n",
        "class DENDiscriminator(nn.Module):\n",
        "    \"\"\"\n",
        "        The discriminator architecture for the DEN autoencoder\n",
        "    \"\"\"\n",
        "\n",
        "    def __init__(self, nz=32, h_dim=128):\n",
        "        super(DENDiscriminator, self).__init__()\n",
        "        self.main = nn.Sequential(\n",
        "            nn.Linear(nz, h_dim),\n",
        "            nn.ReLU(),\n",
        "            nn.Linear(h_dim, 1),\n",
        "            nn.Sigmoid()\n",
        "        )\n",
        "\n",
        "    def forward(self, x):\n",
        "        for layer in self.main:\n",
        "            # print(\"input: \", x.shape, \"with \", nz, h_dim)\n",
        "            x = layer(x)\n",
        "        return x\n",
        "\n",
        "\n",
        "if __name__ == \"__main__\":\n",
        "    # simple dimension debugging\n",
        "    e = NeRFEncoder()\n",
        "    d = NeRFDecoder()\n",
        "\n",
        "    x = torch.randn(1, 3, 100,100)\n",
        "    z = e(x)\n",
        "    y = d(z)\n",
        "    #print(x.shape, z.shape, y.shape)"
      ],
      "execution_count": 75,
      "outputs": []
    },
    {
      "cell_type": "code",
      "metadata": {
        "id": "WSZq8ApkdKRQ",
        "colab_type": "code",
        "colab": {
          "base_uri": "https://localhost:8080/",
          "height": 106
        },
        "outputId": "b39a02f1-73bb-4f9f-b1a1-debba10f395c"
      },
      "source": [
        "translation = tform_cam2world[:, :3,3]\n",
        "#center = torch.mean(translation, dim=0).to(device)\n",
        "#diff = center - translation\n",
        "\n",
        "#n = torch.norm(diff, p=2, dim=1)\n",
        "#radius = torch.mean(n)\n",
        "\n",
        "#print(radius, center)\n",
        "center = torch.zeros(3).to(device)\n",
        "\n",
        "radius = torch.norm(translation[0] - center, p=2)\n",
        "\n",
        "print(radius, center)\n",
        "\n",
        "\n",
        "def get_new_pose(center, radius):\n",
        "    \"\"\"\n",
        "    generates a new pose / perspective for the NeRF model\n",
        "    \"\"\"\n",
        "\n",
        "    rot = random_rotation().to(device)\n",
        "    unit_x = torch.tensor([1.,0.,0.]).to(device)\n",
        "    new_t = center + radius*(rot @ unit_x)\n",
        "\n",
        "    new_t[2] = torch.abs(new_t[2])\n",
        "\n",
        "    up = torch.tensor([0.,0.,1.]).unsqueeze(dim=0).to(device)\n",
        "\n",
        "    #print(new_t)\n",
        "    #print(new_t.shape, center.shape)\n",
        "    #print(type(new_t), type(center))\n",
        "    cam_rot = look_at_rotation(at=new_t.unsqueeze(dim=0), \n",
        "                               camera_position=center.unsqueeze(dim=0),up=up) #tform_cam2world[0, :3, :3]#\n",
        "\n",
        "    #cam_rot[0,2] = 0\n",
        "    #print(cam_rot, \"sss\")\n",
        "    \n",
        "\n",
        "    #cam_rot = torch.transpose(cam_rot, 1,2)\n",
        "    transform = torch.zeros((4,4))#.to(device)\n",
        "    \n",
        "    transform[:3, :3] = cam_rot\n",
        "    transform[:3, 3] = new_t\n",
        "    transform[3, 3] = 1\n",
        "    #print(look_at_rotation(center))\n",
        "    return transform\n",
        "\n",
        "print(get_new_pose(center,radius))\n"
      ],
      "execution_count": 21,
      "outputs": [
        {
          "output_type": "stream",
          "text": [
            "tensor(4.0311, device='cuda:0') tensor([0., 0., 0.], device='cuda:0')\n",
            "tensor([[-0.9752, -0.2182,  0.0367,  0.1479],\n",
            "        [ 0.2212, -0.9617,  0.1617,  0.6519],\n",
            "        [ 0.0000,  0.1658,  0.9862,  3.9753],\n",
            "        [ 0.0000,  0.0000,  0.0000,  1.0000]])\n"
          ],
          "name": "stdout"
        }
      ]
    },
    {
      "cell_type": "code",
      "metadata": {
        "id": "gzKqGbXJdsLM",
        "colab_type": "code",
        "colab": {
          "base_uri": "https://localhost:8080/",
          "height": 357
        },
        "outputId": "af4ac155-7b09-44c4-d760-a68059686b94"
      },
      "source": [
        "# Number of functions used in the positional encoding (Be sure to update the \n",
        "# model if this number changes).\n",
        "num_encoding_functions = 6\n",
        "# Specify encoding function.\n",
        "encode = lambda x: positional_encoding(x, num_encoding_functions=num_encoding_functions)\n",
        "# Number of depth samples along each ray.\n",
        "depth_samples_per_ray = 32\n",
        "\n",
        "# Chunksize (Note: this isn't batchsize in the conventional sense. This only\n",
        "# specifies the number of rays to be queried in one go. Backprop still happens\n",
        "# only after all rays from the current \"bundle\" are queried and rendered).\n",
        "chunksize = 16384  # Use chunksize of about 4096 to fit in ~1.4 GB of GPU memory.\n",
        "\n",
        "# Optimizer parameters\n",
        "lr = 5e-3\n",
        "num_iters = 10000\n",
        "\n",
        "# Misc parameters\n",
        "display_every = 100  # Number of iters after which stats are displayed\n",
        "\n",
        "new_pose = get_new_pose(center, radius).to(device)\n",
        "print(new_pose)\n",
        "predicted = run_one_iter_of_tinynerf(height, width, focal_length, new_pose,\n",
        "                             near_thresh, far_thresh, depth_samples_per_ray,\n",
        "                             encode, get_minibatches)\n",
        "\n",
        "plt.imshow(predicted.detach().cpu().numpy())"
      ],
      "execution_count": 39,
      "outputs": [
        {
          "output_type": "stream",
          "text": [
            "tensor([[-0.5302,  0.1057, -0.8412, -3.3912],\n",
            "        [-0.8479, -0.0661,  0.5261,  2.1207],\n",
            "        [ 0.0000,  0.9922,  0.1247,  0.5026],\n",
            "        [ 0.0000,  0.0000,  0.0000,  1.0000]], device='cuda:0')\n"
          ],
          "name": "stdout"
        },
        {
          "output_type": "execute_result",
          "data": {
            "text/plain": [
              "<matplotlib.image.AxesImage at 0x7fec0b2a8940>"
            ]
          },
          "metadata": {
            "tags": []
          },
          "execution_count": 39
        },
        {
          "output_type": "display_data",
          "data": {
            "image/png": "[encoded data removed]",
            "text/plain": [
              "<Figure size 432x288 with 1 Axes>"
            ]
          },
          "metadata": {
            "tags": [],
            "needs_background": "light"
          }
        }
      ]
    },
    {
      "cell_type": "code",
      "metadata": {
        "id": "v-Fj_1vHgolq",
        "colab_type": "code",
        "colab": {}
      },
      "source": [
        "print(tform_cam2world[:10])"
      ],
      "execution_count": null,
      "outputs": []
    },
    {
      "cell_type": "code",
      "metadata": {
        "id": "vYjTBgkl6Q-Y",
        "colab_type": "code",
        "colab": {}
      },
      "source": [
        "\n",
        "def split_t(t):\n",
        "    if len(t.shape) == 1:\n",
        "        t=t.unsqueeze(dim=0)\n",
        "    print(t.shape)\n",
        "    tx = t[:, 0].detach().cpu().numpy()\n",
        "    ty = t[:, 1].detach().cpu().numpy()\n",
        "    tz = t[:, 2].detach().cpu().numpy()\n",
        "    return tx, ty, tz\n",
        "\n",
        "\n",
        "translation = tform_cam2world[:, :3,3]\n",
        "#center = torch.mean(translation, dim=0).to(device)\n",
        "#diff = center - translation\n",
        "\n",
        "#n = torch.norm(diff, p=2, dim=1)\n",
        "#radius = torch.mean(n)\n",
        "\n",
        "#print(radius, center)\n",
        "center = torch.zeros(3).to(device)\n",
        "\n",
        "radius = torch.norm(translation[0] - center, p=2)\n"
      ],
      "execution_count": 28,
      "outputs": []
    },
    {
      "cell_type": "code",
      "metadata": {
        "id": "LZFmWuCm1Hiw",
        "colab_type": "code",
        "colab": {
          "base_uri": "https://localhost:8080/",
          "height": 685
        },
        "outputId": "788de027-3194-4059-e5a4-7731c56e9c99"
      },
      "source": [
        "\n",
        "\n",
        "\n",
        "\n",
        "def get_cam_direction(poses):\n",
        "    #print(len(poses.shape), \"sssssssssss\")\n",
        "    if len(poses.shape) == 2:\n",
        "        poses = poses.unsqueeze(dim=0)\n",
        "    directions = torch.zeros((poses.shape[0], 3)).to(device)\n",
        "\n",
        "    for i in range(0, poses.shape[0]):\n",
        "\n",
        "        ori_, dir_ = get_ray_bundle(1,1, focal_length, poses[i])\n",
        "        dir_ = dir_.squeeze(dim=0).squeeze(dim=0)\n",
        "        directions[i] = dir_ + ori_\n",
        "\n",
        "    return directions\n",
        "\n",
        "\n",
        "\n",
        "def split_ray_points(dir, trans):\n",
        "    ray_lines_x = []\n",
        "    ray_lines_y = []\n",
        "    ray_lines_z = []\n",
        "\n",
        "\n",
        "    for i in range(0, dir.shape[0]):\n",
        "        ray_lines_x.append(dir[i][0].item())\n",
        "        ray_lines_x.append(trans[i][0].item())\n",
        "        ray_lines_x.append(None)\n",
        "\n",
        "        ray_lines_y.append(dir[i][1].item())\n",
        "        ray_lines_y.append(trans[i][1].item())\n",
        "        ray_lines_y.append(None)\n",
        "\n",
        "        ray_lines_z.append(dir[i][2].item())\n",
        "        ray_lines_z.append(trans[i][2].item())\n",
        "        ray_lines_z.append(None)\n",
        "        \n",
        "    return ray_lines_x, ray_lines_y, ray_lines_z\n",
        "\n",
        "x, y, z = split_t(translation)\n",
        "xc, yc, zc = split_t(center)\n",
        "xr, yr, zr = split_ray_points(get_cam_direction(tform_cam2world), translation)\n",
        "xd, yd, zd = split_t(get_cam_direction(tform_cam2world))\n",
        "\n",
        "\n",
        "\n",
        "new_pose = get_new_pose(center, radius).to(device)\n",
        "print(new_pose)\n",
        "new_t = new_pose[:3,3].unsqueeze(dim=0)\n",
        "xn, yn, zn = split_t(new_t)\n",
        "new_d = get_cam_direction(new_pose)\n",
        "a, b, c = split_ray_points(new_d, new_t)\n",
        "\n",
        "\n",
        "data=[go.Scatter3d(x=x, y=y, z=z,mode='markers', marker=dict(size=2.1), opacity=1, name=\"camera position\"),\n",
        "      go.Scatter3d(x=xc, y=xc, z=xc,mode='markers', marker=dict(size=2.1), opacity=1, name=\"center\"),\n",
        "      go.Scatter3d(x=xr, y=yr, z=zr,mode=\"lines\", marker=dict(size=2.1), name=\"rays\"),\n",
        "      go.Scatter3d(x=xd, y=yd, z=zd,mode='markers', marker=dict(size=2.1), name=\"rays\"),\n",
        "\n",
        "      go.Scatter3d(x=xn, y=yn, z=zn,mode='markers', marker=dict(size=2.1), name=\"new translation\"),\n",
        "      go.Scatter3d(x=a, y=b, z=c,mode='lines', marker=dict(size=2.1), name=\"new translation\")\n",
        "]\n",
        "\n",
        "\n",
        "fig = go.Figure(data)\n",
        "fig.show()"
      ],
      "execution_count": 29,
      "outputs": [
        {
          "output_type": "stream",
          "text": [
            "torch.Size([106, 3])\n",
            "torch.Size([1, 3])\n",
            "torch.Size([106, 3])\n",
            "tensor([[ 0.2938, -0.6422,  0.7079,  2.8538],\n",
            "        [ 0.9559,  0.1974, -0.2176, -0.8773],\n",
            "        [-0.0000,  0.7406,  0.6719,  2.7085],\n",
            "        [ 0.0000,  0.0000,  0.0000,  1.0000]], device='cuda:0')\n",
            "torch.Size([1, 3])\n"
          ],
          "name": "stdout"
        },
        {
          "output_type": "display_data",
          "data": {
            "text/html": [
              "<html>\n",
              "<head><meta charset=\"utf-8\" /></head>\n",
              "<body>\n",
              "    <div>\n",
              "            <script src=\"https://cdnjs.cloudflare.com/ajax/libs/mathjax/2.7.5/MathJax.js?config=TeX-AMS-MML_SVG\"></script><script type=\"text/javascript\">if (window.MathJax) {MathJax.Hub.Config({SVG: {font: \"STIX-Web\"}});}</script>\n",
              "                <script type=\"text/javascript\">window.PlotlyConfig = {MathJaxConfig: 'local'};</script>\n",
              "        <script src=\"https://cdn.plot.ly/plotly-latest.min.js\"></script>    \n",
              "            <div id=\"0b470060-1d20-4fbc-a568-aa35f22f4230\" class=\"plotly-graph-div\" style=\"height:525px; width:100%;\"></div>\n",
              "            <script type=\"text/javascript\">\n",
              "                \n",
              "                    window.PLOTLYENV=window.PLOTLYENV || {};\n",
              "                    \n",
              "                if (document.getElementById(\"0b470060-1d20-4fbc-a568-aa35f22f4230\")) {\n",
              "                    Plotly.newPlot(\n",
              "                        '0b470060-1d20-4fbc-a568-aa35f22f4230',\n",
              "                        [{\"marker\": {\"size\": 2.1}, \"mode\": \"markers\", \"name\": \"camera position\", \"opacity\": 1, \"type\": \"scatter3d\", \"x\": [-0.05379832163453102, -1.398659110069275, -3.385493516921997, -1.2464345693588257, 2.8865230083465576, -2.8906705379486084, 2.232801914215088, -0.12979382276535034, -3.7495899200439453, -3.4902923107147217, -3.3551595211029053, 0.52907395362854, -0.48754292726516724, 2.1348819732666016, -1.9585098028182983, 2.6538169384002686, -3.1899499893188477, 3.7242627143859863, 0.9608983993530273, 3.1680095195770264, 1.9119539260864258, -0.7987216114997864, 2.8507351875305176, -2.8561718463897705, -2.1008365154266357, 3.637409210205078, 0.8770476579666138, -0.42073559761047363, 2.111776828765869, -1.6116830110549927, 1.7322875261306763, -1.2971957921981812, -3.9398677349090576, 1.6561487913131714, -2.247554063796997, -3.3836936950683594, 1.7566769123077393, 0.8783321380615234, -2.10075044631958, -0.13960279524326324, -3.3427348136901855, -0.41710659861564636, 0.47436219453811646, 1.9496005773544312, -1.8393374681472778, -2.589273452758789, 0.007521961349993944, 0.42152610421180725, 0.014908524230122566, 1.434301733970642, 1.1368069648742676, -2.0656259059906006, -3.002284049987793, -3.886370897293091, -3.3270153999328613, 1.413723111152649, -0.6229158639907837, 0.339978963136673, -2.315235137939453, 3.168043851852417, -2.7338404655456543, -0.020868491381406784, -1.1724741458892822, 2.3183114528656006, -0.8277195692062378, 0.7858693599700928, -1.683483362197876, -0.019819926470518112, 2.9369475841522217, -3.872175693511963, 1.0423099994659424, -0.9127683639526367, 3.5749754905700684, 2.5896217823028564, 2.546081066131592, -0.7928509712219238, -0.246016725897789, 1.649032473564148, -2.904823064804077, 0.07294226437807083, 2.52870512008667, -1.7133750915527344, -0.4118720591068268, -3.530200481414795, 0.692101001739502, -3.933959484100342, 1.1644508838653564, -2.0406837463378906, -0.00454852357506752, -0.359662264585495, -3.4366254806518555, 0.21033930778503418, -1.3956377506256104, -1.8584816455841064, -2.961758852005005, 3.5639960765838623, -3.008035659790039, -3.4969570636749268, -0.31046348810195923, 2.1031012535095215, 0.2046843022108078, -1.9745397567749023, 0.0, 3.7121180866961367e-06, -8.328596777573694e-06, 1.0403045962448232e-05], \"y\": [3.845470428466797, 3.5542497634887695, -1.6727094650268555, -1.6370664834976196, 2.513216972351074, 0.35454243421554565, -1.9462224245071411, -0.2752881646156311, -0.607723593711853, 0.8376882672309875, -2.052626848220825, 2.357914447784424, 1.9911646842956543, -3.3444597721099854, 0.12458765506744385, 2.5058655738830566, -0.41941213607788086, -1.1142032146453857, 0.09413626790046692, -2.1722869873046875, -2.9874486923217773, -1.6971794366836548, 1.4779094457626343, 1.5105533599853516, -2.5676472187042236, 0.5946717858314514, 3.8690884113311768, 2.9980766773223877, -2.678037405014038, -3.2011020183563232, 0.5184860825538635, 0.20353946089744568, -0.0002467483573127538, -1.8396297693252563, 2.600733995437622, 1.4670655727386475, -2.0910537242889404, 0.4593953788280487, 3.081249952316284, 1.6944570541381836, 1.6285674571990967, 3.9297399520874023, 3.9500086307525635, -1.4704318046569824, -1.0502654314041138, 1.7476580142974854, -2.830711603164673, 0.9678280353546143, -1.1474518775939941, -0.5783282518386841, 2.938887357711792, 3.2936851978302, -2.0935845375061035, -0.8260704278945923, 1.048954725265503, -3.6711270809173584, 0.43254923820495605, 1.7784502506256104, 0.8177154660224915, 0.929991602897644, 2.8357691764831543, 2.721303939819336, 0.31767338514328003, -3.021360397338867, 3.885237693786621, -3.873871326446533, 1.7009721994400024, 3.505112648010254, -1.7953004837036133, -0.925791323184967, -3.6946234703063965, -2.8198866844177246, -1.238826036453247, -2.1953184604644775, 2.666229724884033, 3.892266273498535, -3.701932668685913, 0.5256894826889038, 2.6168203353881836, 1.9539530277252197, -1.077824592590332, 3.422126293182373, 1.2020422220230103, 0.1713196337223053, -2.587653875350952, 0.5637863874435425, -1.5312353372573853, -1.0129939317703247, 0.0694514811038971, -3.9271185398101807, -0.2910483777523041, -1.1386629343032837, -2.2291290760040283, -1.0084656476974487, 1.6074209213256836, -1.813332438468933, 1.805651307106018, 0.29924672842025757, -3.731215476989746, -1.032314419746399, 0.7416750192642212, -1.8789345026016235, 2.737260103225708, -3.5655829906463623, 3.9999136924743652, -3.606067419052124], \"z\": [1.2080823183059692, 1.2888214588165283, 1.4108426570892334, 3.4664700031280518, 1.26559317111969, 2.7871713638305664, 2.7343761920928955, 4.019623279571533, 1.3495359420776367, 1.834703803062439, 0.882965087890625, 3.2265028953552246, 3.4709601402282715, 0.7119466662406921, 3.521181106567383, 1.7111091613769531, 2.4286444187164307, 1.066967248916626, 3.913797616958618, 1.2226545810699463, 1.915615439414978, 3.5681405067443848, 2.437025308609009, 2.4105000495910645, 2.2899067401885986, 1.6326723098754883, 0.7148017883300781, 2.6616756916046143, 2.1490728855133057, 1.8453792333602905, 3.60282564163208, 3.8112800121307373, 0.8529018759727478, 3.1816558837890625, 2.1058690547943115, 1.6273707151412964, 2.965060234069824, 3.9073634147644043, 1.5306031703948975, 3.655041217803955, 1.5568854808807373, 0.7957176566123962, 0.6499325037002563, 3.207318067550659, 3.4298367500305176, 2.5478134155273438, 2.8700201511383057, 3.8904531002044678, 3.8643410205841064, 3.7226758003234863, 2.514082431793213, 1.0652819871902466, 1.6891403198242188, 0.6809762716293335, 2.0200648307800293, 0.8798936009407043, 3.959151029586792, 3.6016008853912354, 3.1970341205596924, 2.31270694732666, 0.8570468425750732, 2.973897933959961, 3.8437466621398926, 1.3216705322265625, 0.6854256391525269, 0.7909042835235596, 3.243852376937866, 1.990927815437317, 2.097911834716797, 0.6317951679229736, 1.2301819324493408, 2.7322323322296143, 1.3909926414489746, 2.173576593399048, 1.6305487155914307, 0.6867690086364746, 1.576442003250122, 3.640651226043701, 0.9819653034210205, 3.5251591205596924, 2.948549509048462, 1.2662529945373535, 3.8256313800811768, 1.9386422634124756, 3.012481451034546, 0.6753571033477783, 3.5425093173980713, 3.325575590133667, 4.0305280685424805, 0.8356927633285522, 2.086838722229004, 3.861243963241577, 3.055025339126587, 3.432060956954956, 2.212280035018921, 0.5096641182899475, 1.9852819442749023, 1.982862114906311, 1.4938690662384033, 3.2804408073425293, 3.957021951675415, 2.969982624053955, 2.959291696548462, 1.8805897235870361, 0.5006908178329468, 1.8017430305480957]}, {\"marker\": {\"size\": 2.1}, \"mode\": \"markers\", \"name\": \"center\", \"opacity\": 1, \"type\": \"scatter3d\", \"x\": [0.0], \"y\": [0.0], \"z\": [0.0]}, {\"marker\": {\"size\": 2.1}, \"mode\": \"lines\", \"name\": \"rays\", \"type\": \"scatter3d\", \"x\": [-0.0368378609418869, -0.05379832163453102, null, -1.0479230880737305, -1.398659110069275, null, -2.546121120452881, -3.385493516921997, null, -0.9382211565971375, -1.2464345693588257, null, 2.171976327896118, 2.8865230083465576, null, -2.1706745624542236, -2.8906705379486084, null, 1.6747057437896729, 2.232801914215088, null, -0.09932129085063934, -0.12979382276535034, null, -2.818817377090454, -3.7495899200439453, null, -2.6220240592956543, -3.4902923107147217, null, -2.5240530967712402, -3.3551595211029053, null, 0.4007086753845215, 0.52907395362854, null, -0.3623645007610321, -0.48754292726516724, null, 1.6019065380096436, 2.1348819732666016, null, -1.4692964553833008, -1.9585098028182983, null, 1.9968464374542236, 2.6538169384002686, null, -2.396939754486084, -3.1899499893188477, null, 2.7984421253204346, 3.7242627143859863, null, 0.7194012999534607, 0.9608983993530273, null, 2.3791868686676025, 3.1680095195770264, null, 1.4337022304534912, 1.9119539260864258, null, -0.6024836301803589, -0.7987216114997864, null, 2.143279552459717, 2.8507351875305176, null, -2.144056797027588, -2.8561718463897705, null, -1.581174373626709, -2.1008365154266357, null, 2.7342209815979004, 3.637409210205078, null, 0.662848711013794, 0.8770476579666138, null, -0.3124685287475586, -0.42073559761047363, null, 1.5838942527770996, 2.111776828765869, null, -1.2143480777740479, -1.6116830110549927, null, 1.3005098104476929, 1.7322875261306763, null, -0.9714805483818054, -1.2971957921981812, null, -2.961745500564575, -3.9398677349090576, null, 1.2407323122024536, 1.6561487913131714, null, -1.6860510110855103, -2.247554063796997, null, -2.541537284851074, -3.3836936950683594, null, 1.3164393901824951, 1.7566769123077393, null, 0.6590211987495422, 0.8783321380615234, null, -1.5758739709854126, -2.10075044631958, null, -0.10111574828624725, -0.13960279524326324, null, -2.5106778144836426, -3.3427348136901855, null, -0.3099803030490875, -0.41710659861564636, null, 0.36019253730773926, 0.47436219453811646, null, 1.4615097045898438, 1.9496005773544312, null, -1.3821792602539062, -1.8393374681472778, null, -1.9430538415908813, -2.589273452758789, null, 0.0020491941832005978, 0.007521961349993944, null, 0.31887155771255493, 0.42152610421180725, null, 0.007565643638372421, 0.014908524230122566, null, 1.0740656852722168, 1.434301733970642, null, 0.8573474287986755, 1.1368069648742676, null, -1.549651861190796, -2.0656259059906006, null, -2.258330821990967, -3.002284049987793, null, -2.9224345684051514, -3.886370897293091, null, -2.4988815784454346, -3.3270153999328613, null, 1.0593796968460083, 1.413723111152649, null, -0.4634319543838501, -0.6229158639907837, null, 0.25857260823249817, 0.339978963136673, null, -1.7370049953460693, -2.315235137939453, null, 2.381181240081787, 3.168043851852417, null, -2.052535057067871, -2.7338404655456543, null, -0.012071395292878151, -0.020868491381406784, null, -0.8773645162582397, -1.1724741458892822, null, 1.73963463306427, 2.3183114528656006, null, -0.618739128112793, -0.8277195692062378, null, 0.5872505903244019, 0.7858693599700928, null, -1.2612659931182861, -1.683483362197876, null, -0.01129321102052927, -0.019819926470518112, null, 2.204904317855835, 2.9369475841522217, null, -2.911895513534546, -3.872175693511963, null, 0.7799817323684692, 1.0423099994659424, null, -0.6890120506286621, -0.9127683639526367, null, 2.6857807636260986, 3.5749754905700684, null, 1.9434071779251099, 2.5896217823028564, null, 1.9160740375518799, 2.546081066131592, null, -0.5925188660621643, -0.7928509712219238, null, -0.1884862184524536, -0.246016725897789, null, 1.237953543663025, 1.649032473564148, null, -2.181164026260376, -2.904823064804077, null, 0.0583275705575943, 0.07294226437807083, null, 1.8975768089294434, 2.52870512008667, null, -1.2846137285232544, -1.7133750915527344, null, -0.30518612265586853, -0.4118720591068268, null, -2.652561664581299, -3.530200481414795, null, 0.5162389874458313, 0.692101001739502, null, -2.956956624984741, -3.933959484100342, null, 0.8708056211471558, 1.1644508838653564, null, -1.5333930253982544, -2.0406837463378906, null, 0.00040736328810453415, -0.00454852357506752, null, -0.2739579677581787, -0.359662264585495, null, -2.582550525665283, -3.4366254806518555, null, 0.15399405360221863, 0.21033930778503418, null, -1.0510261058807373, -1.3956377506256104, null, -1.3964722156524658, -1.8584816455841064, null, -2.223583221435547, -2.961758852005005, null, 2.6778392791748047, 3.5639960765838623, null, -2.2584609985351562, -3.008035659790039, null, -2.6273975372314453, -3.4969570636749268, null, -0.2369239628314972, -0.31046348810195923, null, 1.5771698951721191, 2.1031012535095215, null, 0.15643854439258575, 0.2046843022108078, null, -1.4852770566940308, -1.9745397567749023, null, 0.003599999938160181, 0.0, null, -0.0035972106270492077, 3.7121180866961367e-06, null, 0.003593738656491041, -8.328596777573694e-06, null, -0.0035921824164688587, 1.0403045962448232e-05, null], \"y\": [2.890498399734497, 3.845470428466797, null, 2.6727962493896484, 3.5542497634887695, null, -1.253975749015808, -1.6727094650268555, null, -1.2263164520263672, -1.6370664834976196, null, 1.8863072395324707, 2.513216972351074, null, 0.26986148953437805, 0.35454243421554565, null, -1.4645333290100098, -1.9462224245071411, null, -0.20221538841724396, -0.2752881646156311, null, -0.453219473361969, -0.607723593711853, null, 0.6330016255378723, 0.8376882672309875, null, -1.5399503707885742, -2.052626848220825, null, 1.769388198852539, 2.357914447784424, null, 1.4950629472732544, 1.9911646842956543, null, -2.516202688217163, -3.3444597721099854, null, 0.09707435965538025, 0.12458765506744385, null, 1.8805701732635498, 2.5058655738830566, null, -0.31151679158210754, -0.41941213607788086, null, -0.840979278087616, -1.1142032146453857, null, 0.06686030328273773, 0.09413626790046692, null, -1.6357605457305908, -2.1722869873046875, null, -2.2468535900115967, -2.9874486923217773, null, -1.271744966506958, -1.6971794366836548, null, 1.1070876121520996, 1.4779094457626343, null, 1.1380071640014648, 1.5105533599853516, null, -1.9268299341201782, -2.5676472187042236, null, 0.4433637857437134, 0.5946717858314514, null, 2.907867431640625, 3.8690884113311768, null, 2.2524919509887695, 2.9980766773223877, null, -2.0144200325012207, -2.678037405014038, null, -2.4039154052734375, -3.2011020183563232, null, 0.3854941129684448, 0.5184860825538635, null, 0.15607641637325287, 0.20353946089744568, null, 0.0034145102836191654, -0.0002467483573127538, null, -1.3835707902908325, -1.8396297693252563, null, 1.9565021991729736, 2.600733995437622, null, 1.10585618019104, 1.4670655727386475, null, -1.572615385055542, -2.0910537242889404, null, 0.34062615036964417, 0.4593953788280487, null, 2.317784547805786, 3.081249952316284, null, 1.2711565494537354, 1.6944570541381836, null, 1.2271969318389893, 1.6285674571990967, null, 2.9545648097991943, 3.9297399520874023, null, 2.9691267013549805, 3.9500086307525635, null, -1.1068120002746582, -1.4704318046569824, null, -0.7850815653800964, -1.0502654314041138, null, 1.3158284425735474, 1.7476580142974854, null, -2.1259450912475586, -2.830711603164673, null, 0.7231165766716003, 0.9678280353546143, null, -0.8594001531600952, -1.1474518775939941, null, -0.4369582533836365, -0.5783282518386841, null, 2.206446409225464, 2.938887357711792, null, 2.477729320526123, 3.2936851978302, null, -1.570414423942566, -2.0935845375061035, null, -0.617499828338623, -0.8260704278945923, null, 0.7916320562362671, 1.048954725265503, null, -2.760993003845215, -3.6711270809173584, null, 0.3261873126029968, 0.43254923820495605, null, 1.3334358930587769, 1.7784502506256104, null, 0.6173089146614075, 0.8177154660224915, null, 0.6952531337738037, 0.929991602897644, null, 2.134248971939087, 2.8357691764831543, null, 2.0436034202575684, 2.721303939819336, null, 0.2414453625679016, 0.31767338514328003, null, -2.2731082439422607, -3.021360397338867, null, 2.9215803146362305, 3.885237693786621, null, -2.912905693054199, -3.873871326446533, null, 1.2794864177703857, 1.7009721994400024, null, 2.6338436603546143, 3.505112648010254, null, -1.352035641670227, -1.7953004837036133, null, -0.6924982666969299, -0.925791323184967, null, -2.7780203819274902, -3.6946234703063965, null, -2.116928815841675, -2.8198866844177246, null, -0.9345059394836426, -1.238826036453247, null, -1.6522178649902344, -2.1953184604644775, null, 2.0012803077697754, 2.666229724884033, null, 2.9268314838409424, 3.892266273498535, null, -2.7819528579711914, -3.701932668685913, null, 0.3908645212650299, 0.5256894826889038, null, 1.969754934310913, 2.6168203353881836, null, 1.465956687927246, 1.9539530277252197, null, -0.8127284646034241, -1.077824592590332, null, 2.5738017559051514, 3.422126293182373, null, 0.9017871618270874, 1.2020422220230103, null, 0.13233231008052826, 0.1713196337223053, null, -1.9440672397613525, -2.587653875350952, null, 0.4274062514305115, 0.5637863874435425, null, -1.1510435342788696, -1.5312353372573853, null, -0.7571560144424438, -1.0129939317703247, null, 0.048866190016269684, 0.0694514811038971, null, -2.9518487453460693, -3.9271185398101807, null, -0.21510374546051025, -0.2910483777523041, null, -0.8534584641456604, -1.1386629343032837, null, -1.6719274520874023, -2.2291290760040283, null, -0.7536701560020447, -1.0084656476974487, null, 1.210890531539917, 1.6074209213256836, null, -1.3665021657943726, -1.813332438468933, null, 1.3598984479904175, 1.805651307106018, null, 0.22844865918159485, 0.29924672842025757, null, -2.8039867877960205, -3.731215476989746, null, -0.7781695127487183, -1.032314419746399, null, 0.5533238649368286, 0.7416750192642212, null, -1.4083919525146484, -1.8789345026016235, null, 2.055586814880371, 2.737260103225708, null, -2.679391384124756, -3.5655829906463623, null, 3.0072100162506104, 3.9999136924743652, null, -2.7099032402038574, -3.606067419052124, null], \"z\": [0.9118285179138184, 1.2080823183059692, null, 0.9725152850151062, 1.2888214588165283, null, 1.0642280578613281, 1.4108426570892334, null, 2.608382225036621, 3.4664700031280518, null, 0.9550561308860779, 1.26559317111969, null, 2.098360061645508, 2.7871713638305664, null, 2.058706283569336, 2.7343761920928955, null, 3.022749423980713, 4.019623279571533, null, 1.0181496143341064, 1.3495359420776367, null, 1.3827753067016602, 1.834703803062439, null, 0.6674410104751587, 0.882965087890625, null, 2.4282641410827637, 3.2265028953552246, null, 2.6117515563964844, 3.4709601402282715, null, 0.5388778448104858, 0.7119466662406921, null, 2.6494359970092773, 3.521181106567383, null, 1.2898948192596436, 1.7111091613769531, null, 1.829045295715332, 2.4286444187164307, null, 0.8057568669319153, 1.066967248916626, null, 2.9437661170959473, 3.913797616958618, null, 0.922781765460968, 1.2226545810699463, null, 1.4435772895812988, 1.915615439414978, null, 2.684669017791748, 3.5681405067443848, null, 1.835341453552246, 2.437025308609009, null, 1.8154141902923584, 2.4105000495910645, null, 1.7248135805130005, 2.2899067401885986, null, 1.230947732925415, 1.6326723098754883, null, 0.5410242676734924, 0.7148017883300781, null, 2.004098892211914, 2.6616756916046143, null, 1.6189992427825928, 2.1490728855133057, null, 1.3907976150512695, 1.8453792333602905, null, 2.7106895446777344, 3.60282564163208, null, 2.866990566253662, 3.8112800121307373, null, 0.6448414921760559, 0.8529018759727478, null, 2.39459490776062, 3.1816558837890625, null, 1.5865368843078613, 2.1058690547943115, null, 1.2269634008407593, 1.6273707151412964, null, 2.2319581508636475, 2.965060234069824, null, 2.938951015472412, 3.9073634147644043, null, 1.1542377471923828, 1.5306031703948975, null, 2.7498555183410645, 3.655041217803955, null, 1.1739903688430786, 1.5568854808807373, null, 0.601853609085083, 0.7957176566123962, null, 0.4922569990158081, 0.6499325037002563, null, 2.4138612747192383, 3.207318067550659, null, 2.580890655517578, 3.4298367500305176, null, 1.9185686111450195, 2.5478134155273438, null, 2.160583734512329, 2.8700201511383057, null, 2.92629337310791, 3.8904531002044678, null, 2.90674090385437, 3.8643410205841064, null, 2.800574779510498, 3.7226758003234863, null, 1.8932294845581055, 2.514082431793213, null, 0.8044900894165039, 1.0652819871902466, null, 1.273384928703308, 1.6891403198242188, null, 0.5155951380729675, 0.6809762716293335, null, 1.5220638513565063, 2.0200648307800293, null, 0.6651320457458496, 0.8798936009407043, null, 2.9776840209960938, 3.959151029586792, null, 2.709770679473877, 3.6016008853912354, null, 2.4061403274536133, 3.1970341205596924, null, 1.741943597793579, 2.31270694732666, null, 0.6479573845863342, 0.8570468425750732, null, 2.2385950088500977, 2.973897933959961, null, 2.891315460205078, 3.8437466621398926, null, 0.9972054958343506, 1.3216705322265625, null, 0.5189400911331177, 0.6854256391525269, null, 0.5982351303100586, 0.7909042835235596, null, 2.441288948059082, 3.243852376937866, null, 1.5001697540283203, 1.990927815437317, null, 1.580557942390442, 2.097911834716797, null, 0.47862160205841064, 0.6317951679229736, null, 0.9284396767616272, 1.2301819324493408, null, 2.057095766067505, 2.7322323322296143, null, 1.0493087768554688, 1.3909926414489746, null, 1.6374105215072632, 2.173576593399048, null, 1.2293517589569092, 1.6305487155914307, null, 0.5199499726295471, 0.6867690086364746, null, 1.1886881589889526, 1.576442003250122, null, 2.7390623092651367, 3.640651226043701, null, 0.7418612241744995, 0.9819653034210205, null, 2.652420997619629, 3.5251591205596924, null, 2.2195591926574707, 2.948549509048462, null, 0.9555521011352539, 1.2662529945373535, null, 2.877743721008301, 3.8256313800811768, null, 1.4608806371688843, 1.9386422634124756, null, 2.267568826675415, 3.012481451034546, null, 0.5113707780838013, 0.6753571033477783, null, 2.6654388904571533, 3.5425093173980713, null, 2.502636432647705, 3.325575590133667, null, 3.0307393074035645, 4.0305280685424805, null, 0.6319047212600708, 0.8356927633285522, null, 1.5722378492355347, 2.086838722229004, null, 2.904421329498291, 3.861243963241577, null, 2.29951548576355, 3.055025339126587, null, 2.582559823989868, 3.432060956954956, null, 1.6664904356002808, 2.212280035018921, null, 0.38680312037467957, 0.5096641182899475, null, 1.495927333831787, 1.9852819442749023, null, 1.4941089153289795, 1.982862114906311, null, 1.1266294717788696, 1.4938690662384033, null, 2.4687559604644775, 3.2804408073425293, null, 2.97609281539917, 3.957021951675415, null, 2.235654830932617, 2.969982624053955, null, 2.227626323699951, 2.959291696548462, null, 1.4172570705413818, 1.8805897235870361, null, 0.38005682826042175, 0.5006908178329468, null, 1.3580060005187988, 1.8017430305480957, null]}, {\"marker\": {\"size\": 2.1}, \"mode\": \"markers\", \"name\": \"rays\", \"type\": \"scatter3d\", \"x\": [-0.0368378609418869, -1.0479230880737305, -2.546121120452881, -0.9382211565971375, 2.171976327896118, -2.1706745624542236, 1.6747057437896729, -0.09932129085063934, -2.818817377090454, -2.6220240592956543, -2.5240530967712402, 0.4007086753845215, -0.3623645007610321, 1.6019065380096436, -1.4692964553833008, 1.9968464374542236, -2.396939754486084, 2.7984421253204346, 0.7194012999534607, 2.3791868686676025, 1.4337022304534912, -0.6024836301803589, 2.143279552459717, -2.144056797027588, -1.581174373626709, 2.7342209815979004, 0.662848711013794, -0.3124685287475586, 1.5838942527770996, -1.2143480777740479, 1.3005098104476929, -0.9714805483818054, -2.961745500564575, 1.2407323122024536, -1.6860510110855103, -2.541537284851074, 1.3164393901824951, 0.6590211987495422, -1.5758739709854126, -0.10111574828624725, -2.5106778144836426, -0.3099803030490875, 0.36019253730773926, 1.4615097045898438, -1.3821792602539062, -1.9430538415908813, 0.0020491941832005978, 0.31887155771255493, 0.007565643638372421, 1.0740656852722168, 0.8573474287986755, -1.549651861190796, -2.258330821990967, -2.9224345684051514, -2.4988815784454346, 1.0593796968460083, -0.4634319543838501, 0.25857260823249817, -1.7370049953460693, 2.381181240081787, -2.052535057067871, -0.012071395292878151, -0.8773645162582397, 1.73963463306427, -0.618739128112793, 0.5872505903244019, -1.2612659931182861, -0.01129321102052927, 2.204904317855835, -2.911895513534546, 0.7799817323684692, -0.6890120506286621, 2.6857807636260986, 1.9434071779251099, 1.9160740375518799, -0.5925188660621643, -0.1884862184524536, 1.237953543663025, -2.181164026260376, 0.0583275705575943, 1.8975768089294434, -1.2846137285232544, -0.30518612265586853, -2.652561664581299, 0.5162389874458313, -2.956956624984741, 0.8708056211471558, -1.5333930253982544, 0.00040736328810453415, -0.2739579677581787, -2.582550525665283, 0.15399405360221863, -1.0510261058807373, -1.3964722156524658, -2.223583221435547, 2.6778392791748047, -2.2584609985351562, -2.6273975372314453, -0.2369239628314972, 1.5771698951721191, 0.15643854439258575, -1.4852770566940308, 0.003599999938160181, -0.0035972106270492077, 0.003593738656491041, -0.0035921824164688587], \"y\": [2.890498399734497, 2.6727962493896484, -1.253975749015808, -1.2263164520263672, 1.8863072395324707, 0.26986148953437805, -1.4645333290100098, -0.20221538841724396, -0.453219473361969, 0.6330016255378723, -1.5399503707885742, 1.769388198852539, 1.4950629472732544, -2.516202688217163, 0.09707435965538025, 1.8805701732635498, -0.31151679158210754, -0.840979278087616, 0.06686030328273773, -1.6357605457305908, -2.2468535900115967, -1.271744966506958, 1.1070876121520996, 1.1380071640014648, -1.9268299341201782, 0.4433637857437134, 2.907867431640625, 2.2524919509887695, -2.0144200325012207, -2.4039154052734375, 0.3854941129684448, 0.15607641637325287, 0.0034145102836191654, -1.3835707902908325, 1.9565021991729736, 1.10585618019104, -1.572615385055542, 0.34062615036964417, 2.317784547805786, 1.2711565494537354, 1.2271969318389893, 2.9545648097991943, 2.9691267013549805, -1.1068120002746582, -0.7850815653800964, 1.3158284425735474, -2.1259450912475586, 0.7231165766716003, -0.8594001531600952, -0.4369582533836365, 2.206446409225464, 2.477729320526123, -1.570414423942566, -0.617499828338623, 0.7916320562362671, -2.760993003845215, 0.3261873126029968, 1.3334358930587769, 0.6173089146614075, 0.6952531337738037, 2.134248971939087, 2.0436034202575684, 0.2414453625679016, -2.2731082439422607, 2.9215803146362305, -2.912905693054199, 1.2794864177703857, 2.6338436603546143, -1.352035641670227, -0.6924982666969299, -2.7780203819274902, -2.116928815841675, -0.9345059394836426, -1.6522178649902344, 2.0012803077697754, 2.9268314838409424, -2.7819528579711914, 0.3908645212650299, 1.969754934310913, 1.465956687927246, -0.8127284646034241, 2.5738017559051514, 0.9017871618270874, 0.13233231008052826, -1.9440672397613525, 0.4274062514305115, -1.1510435342788696, -0.7571560144424438, 0.048866190016269684, -2.9518487453460693, -0.21510374546051025, -0.8534584641456604, -1.6719274520874023, -0.7536701560020447, 1.210890531539917, -1.3665021657943726, 1.3598984479904175, 0.22844865918159485, -2.8039867877960205, -0.7781695127487183, 0.5533238649368286, -1.4083919525146484, 2.055586814880371, -2.679391384124756, 3.0072100162506104, -2.7099032402038574], \"z\": [0.9118285179138184, 0.9725152850151062, 1.0642280578613281, 2.608382225036621, 0.9550561308860779, 2.098360061645508, 2.058706283569336, 3.022749423980713, 1.0181496143341064, 1.3827753067016602, 0.6674410104751587, 2.4282641410827637, 2.6117515563964844, 0.5388778448104858, 2.6494359970092773, 1.2898948192596436, 1.829045295715332, 0.8057568669319153, 2.9437661170959473, 0.922781765460968, 1.4435772895812988, 2.684669017791748, 1.835341453552246, 1.8154141902923584, 1.7248135805130005, 1.230947732925415, 0.5410242676734924, 2.004098892211914, 1.6189992427825928, 1.3907976150512695, 2.7106895446777344, 2.866990566253662, 0.6448414921760559, 2.39459490776062, 1.5865368843078613, 1.2269634008407593, 2.2319581508636475, 2.938951015472412, 1.1542377471923828, 2.7498555183410645, 1.1739903688430786, 0.601853609085083, 0.4922569990158081, 2.4138612747192383, 2.580890655517578, 1.9185686111450195, 2.160583734512329, 2.92629337310791, 2.90674090385437, 2.800574779510498, 1.8932294845581055, 0.8044900894165039, 1.273384928703308, 0.5155951380729675, 1.5220638513565063, 0.6651320457458496, 2.9776840209960938, 2.709770679473877, 2.4061403274536133, 1.741943597793579, 0.6479573845863342, 2.2385950088500977, 2.891315460205078, 0.9972054958343506, 0.5189400911331177, 0.5982351303100586, 2.441288948059082, 1.5001697540283203, 1.580557942390442, 0.47862160205841064, 0.9284396767616272, 2.057095766067505, 1.0493087768554688, 1.6374105215072632, 1.2293517589569092, 0.5199499726295471, 1.1886881589889526, 2.7390623092651367, 0.7418612241744995, 2.652420997619629, 2.2195591926574707, 0.9555521011352539, 2.877743721008301, 1.4608806371688843, 2.267568826675415, 0.5113707780838013, 2.6654388904571533, 2.502636432647705, 3.0307393074035645, 0.6319047212600708, 1.5722378492355347, 2.904421329498291, 2.29951548576355, 2.582559823989868, 1.6664904356002808, 0.38680312037467957, 1.495927333831787, 1.4941089153289795, 1.1266294717788696, 2.4687559604644775, 2.97609281539917, 2.235654830932617, 2.227626323699951, 1.4172570705413818, 0.38005682826042175, 1.3580060005187988]}, {\"marker\": {\"size\": 2.1}, \"mode\": \"markers\", \"name\": \"new translation\", \"type\": \"scatter3d\", \"x\": [2.8538265228271484], \"y\": [-0.8773012161254883], \"z\": [2.708508253097534]}, {\"marker\": {\"size\": 2.1}, \"mode\": \"lines\", \"name\": \"new translation\", \"type\": \"scatter3d\", \"x\": [2.1425094604492188, 2.8538265228271484, null], \"y\": [-0.6623998880386353, -0.8773012161254883, null], \"z\": [2.039276361465454, 2.708508253097534, null]}],\n",
              "                        {\"template\": {\"data\": {\"bar\": [{\"error_x\": {\"color\": \"#2a3f5f\"}, \"error_y\": {\"color\": \"#2a3f5f\"}, \"marker\": {\"line\": {\"color\": \"#E5ECF6\", \"width\": 0.5}}, \"type\": \"bar\"}], \"barpolar\": [{\"marker\": {\"line\": {\"color\": \"#E5ECF6\", \"width\": 0.5}}, \"type\": \"barpolar\"}], \"carpet\": [{\"aaxis\": {\"endlinecolor\": \"#2a3f5f\", \"gridcolor\": \"white\", \"linecolor\": \"white\", \"minorgridcolor\": \"white\", \"startlinecolor\": \"#2a3f5f\"}, \"baxis\": {\"endlinecolor\": \"#2a3f5f\", \"gridcolor\": \"white\", \"linecolor\": \"white\", \"minorgridcolor\": \"white\", \"startlinecolor\": \"#2a3f5f\"}, \"type\": \"carpet\"}], \"choropleth\": [{\"colorbar\": {\"outlinewidth\": 0, \"ticks\": \"\"}, \"type\": \"choropleth\"}], \"contour\": [{\"colorbar\": {\"outlinewidth\": 0, \"ticks\": \"\"}, \"colorscale\": [[0.0, \"#0d0887\"], [0.1111111111111111, \"#46039f\"], [0.2222222222222222, \"#7201a8\"], [0.3333333333333333, \"#9c179e\"], [0.4444444444444444, \"#bd3786\"], [0.5555555555555556, \"#d8576b\"], [0.6666666666666666, \"#ed7953\"], [0.7777777777777778, \"#fb9f3a\"], [0.8888888888888888, \"#fdca26\"], [1.0, \"#f0f921\"]], \"type\": \"contour\"}], \"contourcarpet\": [{\"colorbar\": {\"outlinewidth\": 0, \"ticks\": \"\"}, \"type\": \"contourcarpet\"}], \"heatmap\": [{\"colorbar\": {\"outlinewidth\": 0, \"ticks\": \"\"}, \"colorscale\": [[0.0, \"#0d0887\"], [0.1111111111111111, \"#46039f\"], [0.2222222222222222, \"#7201a8\"], [0.3333333333333333, \"#9c179e\"], [0.4444444444444444, \"#bd3786\"], [0.5555555555555556, \"#d8576b\"], [0.6666666666666666, \"#ed7953\"], [0.7777777777777778, \"#fb9f3a\"], [0.8888888888888888, \"#fdca26\"], [1.0, \"#f0f921\"]], \"type\": \"heatmap\"}], \"heatmapgl\": [{\"colorbar\": {\"outlinewidth\": 0, \"ticks\": \"\"}, \"colorscale\": [[0.0, \"#0d0887\"], [0.1111111111111111, \"#46039f\"], [0.2222222222222222, \"#7201a8\"], [0.3333333333333333, \"#9c179e\"], [0.4444444444444444, \"#bd3786\"], [0.5555555555555556, \"#d8576b\"], [0.6666666666666666, \"#ed7953\"], [0.7777777777777778, \"#fb9f3a\"], [0.8888888888888888, \"#fdca26\"], [1.0, \"#f0f921\"]], \"type\": \"heatmapgl\"}], \"histogram\": [{\"marker\": {\"colorbar\": {\"outlinewidth\": 0, \"ticks\": \"\"}}, \"type\": \"histogram\"}], \"histogram2d\": [{\"colorbar\": {\"outlinewidth\": 0, \"ticks\": \"\"}, \"colorscale\": [[0.0, \"#0d0887\"], [0.1111111111111111, \"#46039f\"], [0.2222222222222222, \"#7201a8\"], [0.3333333333333333, \"#9c179e\"], [0.4444444444444444, \"#bd3786\"], [0.5555555555555556, \"#d8576b\"], [0.6666666666666666, \"#ed7953\"], [0.7777777777777778, \"#fb9f3a\"], [0.8888888888888888, \"#fdca26\"], [1.0, \"#f0f921\"]], \"type\": \"histogram2d\"}], \"histogram2dcontour\": [{\"colorbar\": {\"outlinewidth\": 0, \"ticks\": \"\"}, \"colorscale\": [[0.0, \"#0d0887\"], [0.1111111111111111, \"#46039f\"], [0.2222222222222222, \"#7201a8\"], [0.3333333333333333, \"#9c179e\"], [0.4444444444444444, \"#bd3786\"], [0.5555555555555556, \"#d8576b\"], [0.6666666666666666, \"#ed7953\"], [0.7777777777777778, \"#fb9f3a\"], [0.8888888888888888, \"#fdca26\"], [1.0, \"#f0f921\"]], \"type\": \"histogram2dcontour\"}], \"mesh3d\": [{\"colorbar\": {\"outlinewidth\": 0, \"ticks\": \"\"}, \"type\": \"mesh3d\"}], \"parcoords\": [{\"line\": {\"colorbar\": {\"outlinewidth\": 0, \"ticks\": \"\"}}, \"type\": \"parcoords\"}], \"pie\": [{\"automargin\": true, \"type\": \"pie\"}], \"scatter\": [{\"marker\": {\"colorbar\": {\"outlinewidth\": 0, \"ticks\": \"\"}}, \"type\": \"scatter\"}], \"scatter3d\": [{\"line\": {\"colorbar\": {\"outlinewidth\": 0, \"ticks\": \"\"}}, \"marker\": {\"colorbar\": {\"outlinewidth\": 0, \"ticks\": \"\"}}, \"type\": \"scatter3d\"}], \"scattercarpet\": [{\"marker\": {\"colorbar\": {\"outlinewidth\": 0, \"ticks\": \"\"}}, \"type\": \"scattercarpet\"}], \"scattergeo\": [{\"marker\": {\"colorbar\": {\"outlinewidth\": 0, \"ticks\": \"\"}}, \"type\": \"scattergeo\"}], \"scattergl\": [{\"marker\": {\"colorbar\": {\"outlinewidth\": 0, \"ticks\": \"\"}}, \"type\": \"scattergl\"}], \"scattermapbox\": [{\"marker\": {\"colorbar\": {\"outlinewidth\": 0, \"ticks\": \"\"}}, \"type\": \"scattermapbox\"}], \"scatterpolar\": [{\"marker\": {\"colorbar\": {\"outlinewidth\": 0, \"ticks\": \"\"}}, \"type\": \"scatterpolar\"}], \"scatterpolargl\": [{\"marker\": {\"colorbar\": {\"outlinewidth\": 0, \"ticks\": \"\"}}, \"type\": \"scatterpolargl\"}], \"scatterternary\": [{\"marker\": {\"colorbar\": {\"outlinewidth\": 0, \"ticks\": \"\"}}, \"type\": \"scatterternary\"}], \"surface\": [{\"colorbar\": {\"outlinewidth\": 0, \"ticks\": \"\"}, \"colorscale\": [[0.0, \"#0d0887\"], [0.1111111111111111, \"#46039f\"], [0.2222222222222222, \"#7201a8\"], [0.3333333333333333, \"#9c179e\"], [0.4444444444444444, \"#bd3786\"], [0.5555555555555556, \"#d8576b\"], [0.6666666666666666, \"#ed7953\"], [0.7777777777777778, \"#fb9f3a\"], [0.8888888888888888, \"#fdca26\"], [1.0, \"#f0f921\"]], \"type\": \"surface\"}], \"table\": [{\"cells\": {\"fill\": {\"color\": \"#EBF0F8\"}, \"line\": {\"color\": \"white\"}}, \"header\": {\"fill\": {\"color\": \"#C8D4E3\"}, \"line\": {\"color\": \"white\"}}, \"type\": \"table\"}]}, \"layout\": {\"annotationdefaults\": {\"arrowcolor\": \"#2a3f5f\", \"arrowhead\": 0, \"arrowwidth\": 1}, \"coloraxis\": {\"colorbar\": {\"outlinewidth\": 0, \"ticks\": \"\"}}, \"colorscale\": {\"diverging\": [[0, \"#8e0152\"], [0.1, \"#c51b7d\"], [0.2, \"#de77ae\"], [0.3, \"#f1b6da\"], [0.4, \"#fde0ef\"], [0.5, \"#f7f7f7\"], [0.6, \"#e6f5d0\"], [0.7, \"#b8e186\"], [0.8, \"#7fbc41\"], [0.9, \"#4d9221\"], [1, \"#276419\"]], \"sequential\": [[0.0, \"#0d0887\"], [0.1111111111111111, \"#46039f\"], [0.2222222222222222, \"#7201a8\"], [0.3333333333333333, \"#9c179e\"], [0.4444444444444444, \"#bd3786\"], [0.5555555555555556, \"#d8576b\"], [0.6666666666666666, \"#ed7953\"], [0.7777777777777778, \"#fb9f3a\"], [0.8888888888888888, \"#fdca26\"], [1.0, \"#f0f921\"]], \"sequentialminus\": [[0.0, \"#0d0887\"], [0.1111111111111111, \"#46039f\"], [0.2222222222222222, \"#7201a8\"], [0.3333333333333333, \"#9c179e\"], [0.4444444444444444, \"#bd3786\"], [0.5555555555555556, \"#d8576b\"], [0.6666666666666666, \"#ed7953\"], [0.7777777777777778, \"#fb9f3a\"], [0.8888888888888888, \"#fdca26\"], [1.0, \"#f0f921\"]]}, \"colorway\": [\"#636efa\", \"#EF553B\", \"#00cc96\", \"#ab63fa\", \"#FFA15A\", \"#19d3f3\", \"#FF6692\", \"#B6E880\", \"#FF97FF\", \"#FECB52\"], \"font\": {\"color\": \"#2a3f5f\"}, \"geo\": {\"bgcolor\": \"white\", \"lakecolor\": \"white\", \"landcolor\": \"#E5ECF6\", \"showlakes\": true, \"showland\": true, \"subunitcolor\": \"white\"}, \"hoverlabel\": {\"align\": \"left\"}, \"hovermode\": \"closest\", \"mapbox\": {\"style\": \"light\"}, \"paper_bgcolor\": \"white\", \"plot_bgcolor\": \"#E5ECF6\", \"polar\": {\"angularaxis\": {\"gridcolor\": \"white\", \"linecolor\": \"white\", \"ticks\": \"\"}, \"bgcolor\": \"#E5ECF6\", \"radialaxis\": {\"gridcolor\": \"white\", \"linecolor\": \"white\", \"ticks\": \"\"}}, \"scene\": {\"xaxis\": {\"backgroundcolor\": \"#E5ECF6\", \"gridcolor\": \"white\", \"gridwidth\": 2, \"linecolor\": \"white\", \"showbackground\": true, \"ticks\": \"\", \"zerolinecolor\": \"white\"}, \"yaxis\": {\"backgroundcolor\": \"#E5ECF6\", \"gridcolor\": \"white\", \"gridwidth\": 2, \"linecolor\": \"white\", \"showbackground\": true, \"ticks\": \"\", \"zerolinecolor\": \"white\"}, \"zaxis\": {\"backgroundcolor\": \"#E5ECF6\", \"gridcolor\": \"white\", \"gridwidth\": 2, \"linecolor\": \"white\", \"showbackground\": true, \"ticks\": \"\", \"zerolinecolor\": \"white\"}}, \"shapedefaults\": {\"line\": {\"color\": \"#2a3f5f\"}}, \"ternary\": {\"aaxis\": {\"gridcolor\": \"white\", \"linecolor\": \"white\", \"ticks\": \"\"}, \"baxis\": {\"gridcolor\": \"white\", \"linecolor\": \"white\", \"ticks\": \"\"}, \"bgcolor\": \"#E5ECF6\", \"caxis\": {\"gridcolor\": \"white\", \"linecolor\": \"white\", \"ticks\": \"\"}}, \"title\": {\"x\": 0.05}, \"xaxis\": {\"automargin\": true, \"gridcolor\": \"white\", \"linecolor\": \"white\", \"ticks\": \"\", \"title\": {\"standoff\": 15}, \"zerolinecolor\": \"white\", \"zerolinewidth\": 2}, \"yaxis\": {\"automargin\": true, \"gridcolor\": \"white\", \"linecolor\": \"white\", \"ticks\": \"\", \"title\": {\"standoff\": 15}, \"zerolinecolor\": \"white\", \"zerolinewidth\": 2}}}},\n",
              "                        {\"responsive\": true}\n",
              "                    ).then(function(){\n",
              "                            \n",
              "var gd = document.getElementById('0b470060-1d20-4fbc-a568-aa35f22f4230');\n",
              "var x = new MutationObserver(function (mutations, observer) {{\n",
              "        var display = window.getComputedStyle(gd).display;\n",
              "        if (!display || display === 'none') {{\n",
              "            console.log([gd, 'removed!']);\n",
              "            Plotly.purge(gd);\n",
              "            observer.disconnect();\n",
              "        }}\n",
              "}});\n",
              "\n",
              "// Listen for the removal of the full notebook cells\n",
              "var notebookContainer = gd.closest('#notebook-container');\n",
              "if (notebookContainer) {{\n",
              "    x.observe(notebookContainer, {childList: true});\n",
              "}}\n",
              "\n",
              "// Listen for the clearing of the current output cell\n",
              "var outputEl = gd.closest('.output');\n",
              "if (outputEl) {{\n",
              "    x.observe(outputEl, {childList: true});\n",
              "}}\n",
              "\n",
              "                        })\n",
              "                };\n",
              "                \n",
              "            </script>\n",
              "        </div>\n",
              "</body>\n",
              "</html>"
            ]
          },
          "metadata": {
            "tags": []
          }
        }
      ]
    },
    {
      "cell_type": "code",
      "metadata": {
        "id": "b-EvMnE2blKE",
        "colab_type": "code",
        "colab": {
          "base_uri": "https://localhost:8080/",
          "height": 35
        },
        "outputId": "137ceba5-dab1-4b0f-ce4d-6f5900088a74"
      },
      "source": [
        "v = torch.tensor([0,.0,0,1]).to(device)\n",
        "t = tform_cam2world[0]\n",
        "\n",
        "print(t@v)\n",
        "\n",
        "\n",
        "def get_ray_bundle(height: int, width: int, focal_length: float, tform_cam2world: torch.Tensor):\n",
        "  r\"\"\"Compute the bundle of rays passing through all pixels of an image (one ray per pixel).\n",
        "\n",
        "  Args:\n",
        "    height (int): Height of an image (number of pixels).\n",
        "    width (int): Width of an image (number of pixels).\n",
        "    focal_length (float or torch.Tensor): Focal length (number of pixels, i.e., calibrated intrinsics).\n",
        "    tform_cam2world (torch.Tensor): A 6-DoF rigid-body transform (shape: :math:`(4, 4)`) that\n",
        "      transforms a 3D point from the camera frame to the \"world\" frame for the current example.\n",
        "  \n",
        "  Returns:\n",
        "    ray_origins (torch.Tensor): A tensor of shape :math:`(width, height, 3)` denoting the centers of\n",
        "      each ray. `ray_origins[i][j]` denotes the origin of the ray passing through pixel at\n",
        "      row index `j` and column index `i`.\n",
        "      (TODO: double check if explanation of row and col indices convention is right).\n",
        "    ray_directions (torch.Tensor): A tensor of shape :math:`(width, height, 3)` denoting the\n",
        "      direction of each ray (a unit vector). `ray_directions[i][j]` denotes the direction of the ray\n",
        "      passing through the pixel at row index `j` and column index `i`.\n",
        "      (TODO: double check if explanation of row and col indices convention is right).\n",
        "  \"\"\"\n",
        "  # TESTED\n",
        "  ii, jj = meshgrid_xy(\n",
        "      torch.arange(width).to(tform_cam2world),\n",
        "      torch.arange(height).to(tform_cam2world)\n",
        "  )\n",
        "  directions = torch.stack([(ii - width * .5) / focal_length,\n",
        "                            -(jj - height * .5) / focal_length,\n",
        "                            -torch.ones_like(ii)\n",
        "                           ], dim=-1)\n",
        "  ray_directions = torch.sum(directions[..., None, :] * tform_cam2world[:3, :3], dim=-1)\n",
        "  ray_origins = tform_cam2world[:3, -1].expand(ray_directions.shape)\n",
        "  return ray_origins, ray_directions\n",
        "\n"
      ],
      "execution_count": null,
      "outputs": [
        {
          "output_type": "stream",
          "text": [
            "tensor([-0.0538,  3.8455,  1.2081,  1.0000], device='cuda:0')\n"
          ],
          "name": "stdout"
        }
      ]
    },
    {
      "cell_type": "code",
      "metadata": {
        "id": "THwFC3lmdBGe",
        "colab_type": "code",
        "colab": {}
      },
      "source": [
        "encoder = NeRFEncoder().to(device)\n",
        "decoder = NeRFDecoder().to(device)\n",
        "\n",
        "\n",
        "iterations = 1\n",
        "\n",
        "for i in range(iterations):\n",
        "\n",
        "    pose = get_new_pose(center, radius)\n",
        "    nerf_pred = run_one_iter_of_tinynerf(height, width, focal_length, new_pose,\n",
        "                             near_thresh, far_thresh, depth_samples_per_ray,\n",
        "                             encode, get_minibatches)\n",
        "    \n",
        "    nerf_pred = nerf_pred.permute(2,1,0)#.unsqueeze(dim=0)\n",
        "    nerf_pred = nerf_pred.unsqueeze(dim=0).to(device)\n",
        "    #print(nerf_pred.shape)\n",
        "    \n",
        "    z = encoder(nerf_pred)\n",
        "    autonerf_pred = decoder(z)"
      ],
      "execution_count": 76,
      "outputs": []
    },
    {
      "cell_type": "code",
      "metadata": {
        "id": "rGRNPBdudJaS",
        "colab_type": "code",
        "colab": {}
      },
      "source": [
        ""
      ],
      "execution_count": null,
      "outputs": []
    }
  ]
}